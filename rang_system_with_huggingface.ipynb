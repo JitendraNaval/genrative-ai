{
  "nbformat": 4,
  "nbformat_minor": 0,
  "metadata": {
    "colab": {
      "provenance": [],
      "gpuType": "T4"
    },
    "kernelspec": {
      "name": "python3",
      "display_name": "Python 3"
    },
    "language_info": {
      "name": "python"
    },
    "accelerator": "GPU"
  },
  "cells": [
    {
      "cell_type": "code",
      "source": [
        "%pip install llama-index-llms-huggingface"
      ],
      "metadata": {
        "colab": {
          "base_uri": "https://localhost:8080/"
        },
        "id": "pUe95DoZ5kZC",
        "outputId": "87fdf961-9725-4687-e33d-27c9ec96e314"
      },
      "execution_count": 1,
      "outputs": [
        {
          "output_type": "stream",
          "name": "stdout",
          "text": [
            "Collecting llama-index-llms-huggingface\n",
            "  Downloading llama_index_llms_huggingface-0.4.2-py3-none-any.whl.metadata (2.9 kB)\n",
            "Requirement already satisfied: huggingface-hub>=0.23.0 in /usr/local/lib/python3.11/dist-packages (from llama-index-llms-huggingface) (0.27.1)\n",
            "Collecting llama-index-core<0.13.0,>=0.12.0 (from llama-index-llms-huggingface)\n",
            "  Downloading llama_index_core-0.12.15-py3-none-any.whl.metadata (2.5 kB)\n",
            "Collecting text-generation<0.8.0,>=0.7.0 (from llama-index-llms-huggingface)\n",
            "  Downloading text_generation-0.7.0-py3-none-any.whl.metadata (8.5 kB)\n",
            "Requirement already satisfied: torch<3.0.0,>=2.1.2 in /usr/local/lib/python3.11/dist-packages (from llama-index-llms-huggingface) (2.5.1+cu124)\n",
            "Requirement already satisfied: transformers<5.0.0,>=4.37.0 in /usr/local/lib/python3.11/dist-packages (from transformers[torch]<5.0.0,>=4.37.0->llama-index-llms-huggingface) (4.47.1)\n",
            "Requirement already satisfied: filelock in /usr/local/lib/python3.11/dist-packages (from huggingface-hub>=0.23.0->llama-index-llms-huggingface) (3.17.0)\n",
            "Requirement already satisfied: fsspec>=2023.5.0 in /usr/local/lib/python3.11/dist-packages (from huggingface-hub>=0.23.0->llama-index-llms-huggingface) (2024.10.0)\n",
            "Requirement already satisfied: packaging>=20.9 in /usr/local/lib/python3.11/dist-packages (from huggingface-hub>=0.23.0->llama-index-llms-huggingface) (24.2)\n",
            "Requirement already satisfied: pyyaml>=5.1 in /usr/local/lib/python3.11/dist-packages (from huggingface-hub>=0.23.0->llama-index-llms-huggingface) (6.0.2)\n",
            "Requirement already satisfied: requests in /usr/local/lib/python3.11/dist-packages (from huggingface-hub>=0.23.0->llama-index-llms-huggingface) (2.32.3)\n",
            "Requirement already satisfied: tqdm>=4.42.1 in /usr/local/lib/python3.11/dist-packages (from huggingface-hub>=0.23.0->llama-index-llms-huggingface) (4.67.1)\n",
            "Requirement already satisfied: typing-extensions>=3.7.4.3 in /usr/local/lib/python3.11/dist-packages (from huggingface-hub>=0.23.0->llama-index-llms-huggingface) (4.12.2)\n",
            "Requirement already satisfied: SQLAlchemy>=1.4.49 in /usr/local/lib/python3.11/dist-packages (from SQLAlchemy[asyncio]>=1.4.49->llama-index-core<0.13.0,>=0.12.0->llama-index-llms-huggingface) (2.0.37)\n",
            "Requirement already satisfied: aiohttp<4.0.0,>=3.8.6 in /usr/local/lib/python3.11/dist-packages (from llama-index-core<0.13.0,>=0.12.0->llama-index-llms-huggingface) (3.11.11)\n",
            "Collecting dataclasses-json (from llama-index-core<0.13.0,>=0.12.0->llama-index-llms-huggingface)\n",
            "  Downloading dataclasses_json-0.6.7-py3-none-any.whl.metadata (25 kB)\n",
            "Requirement already satisfied: deprecated>=1.2.9.3 in /usr/local/lib/python3.11/dist-packages (from llama-index-core<0.13.0,>=0.12.0->llama-index-llms-huggingface) (1.2.18)\n",
            "Collecting dirtyjson<2.0.0,>=1.0.8 (from llama-index-core<0.13.0,>=0.12.0->llama-index-llms-huggingface)\n",
            "  Downloading dirtyjson-1.0.8-py3-none-any.whl.metadata (11 kB)\n",
            "Collecting filetype<2.0.0,>=1.2.0 (from llama-index-core<0.13.0,>=0.12.0->llama-index-llms-huggingface)\n",
            "  Downloading filetype-1.2.0-py2.py3-none-any.whl.metadata (6.5 kB)\n",
            "Requirement already satisfied: httpx in /usr/local/lib/python3.11/dist-packages (from llama-index-core<0.13.0,>=0.12.0->llama-index-llms-huggingface) (0.28.1)\n",
            "Requirement already satisfied: nest-asyncio<2.0.0,>=1.5.8 in /usr/local/lib/python3.11/dist-packages (from llama-index-core<0.13.0,>=0.12.0->llama-index-llms-huggingface) (1.6.0)\n",
            "Requirement already satisfied: networkx>=3.0 in /usr/local/lib/python3.11/dist-packages (from llama-index-core<0.13.0,>=0.12.0->llama-index-llms-huggingface) (3.4.2)\n",
            "Requirement already satisfied: nltk>3.8.1 in /usr/local/lib/python3.11/dist-packages (from llama-index-core<0.13.0,>=0.12.0->llama-index-llms-huggingface) (3.9.1)\n",
            "Requirement already satisfied: numpy in /usr/local/lib/python3.11/dist-packages (from llama-index-core<0.13.0,>=0.12.0->llama-index-llms-huggingface) (1.26.4)\n",
            "Requirement already satisfied: pillow>=9.0.0 in /usr/local/lib/python3.11/dist-packages (from llama-index-core<0.13.0,>=0.12.0->llama-index-llms-huggingface) (11.1.0)\n",
            "Requirement already satisfied: pydantic>=2.8.0 in /usr/local/lib/python3.11/dist-packages (from llama-index-core<0.13.0,>=0.12.0->llama-index-llms-huggingface) (2.10.6)\n",
            "Requirement already satisfied: tenacity!=8.4.0,<10.0.0,>=8.2.0 in /usr/local/lib/python3.11/dist-packages (from llama-index-core<0.13.0,>=0.12.0->llama-index-llms-huggingface) (9.0.0)\n",
            "Collecting tiktoken>=0.3.3 (from llama-index-core<0.13.0,>=0.12.0->llama-index-llms-huggingface)\n",
            "  Downloading tiktoken-0.8.0-cp311-cp311-manylinux_2_17_x86_64.manylinux2014_x86_64.whl.metadata (6.6 kB)\n",
            "Collecting typing-inspect>=0.8.0 (from llama-index-core<0.13.0,>=0.12.0->llama-index-llms-huggingface)\n",
            "  Downloading typing_inspect-0.9.0-py3-none-any.whl.metadata (1.5 kB)\n",
            "Requirement already satisfied: wrapt in /usr/local/lib/python3.11/dist-packages (from llama-index-core<0.13.0,>=0.12.0->llama-index-llms-huggingface) (1.17.2)\n",
            "Requirement already satisfied: jinja2 in /usr/local/lib/python3.11/dist-packages (from torch<3.0.0,>=2.1.2->llama-index-llms-huggingface) (3.1.5)\n",
            "Collecting nvidia-cuda-nvrtc-cu12==12.4.127 (from torch<3.0.0,>=2.1.2->llama-index-llms-huggingface)\n",
            "  Downloading nvidia_cuda_nvrtc_cu12-12.4.127-py3-none-manylinux2014_x86_64.whl.metadata (1.5 kB)\n",
            "Collecting nvidia-cuda-runtime-cu12==12.4.127 (from torch<3.0.0,>=2.1.2->llama-index-llms-huggingface)\n",
            "  Downloading nvidia_cuda_runtime_cu12-12.4.127-py3-none-manylinux2014_x86_64.whl.metadata (1.5 kB)\n",
            "Collecting nvidia-cuda-cupti-cu12==12.4.127 (from torch<3.0.0,>=2.1.2->llama-index-llms-huggingface)\n",
            "  Downloading nvidia_cuda_cupti_cu12-12.4.127-py3-none-manylinux2014_x86_64.whl.metadata (1.6 kB)\n",
            "Collecting nvidia-cudnn-cu12==9.1.0.70 (from torch<3.0.0,>=2.1.2->llama-index-llms-huggingface)\n",
            "  Downloading nvidia_cudnn_cu12-9.1.0.70-py3-none-manylinux2014_x86_64.whl.metadata (1.6 kB)\n",
            "Collecting nvidia-cublas-cu12==12.4.5.8 (from torch<3.0.0,>=2.1.2->llama-index-llms-huggingface)\n",
            "  Downloading nvidia_cublas_cu12-12.4.5.8-py3-none-manylinux2014_x86_64.whl.metadata (1.5 kB)\n",
            "Collecting nvidia-cufft-cu12==11.2.1.3 (from torch<3.0.0,>=2.1.2->llama-index-llms-huggingface)\n",
            "  Downloading nvidia_cufft_cu12-11.2.1.3-py3-none-manylinux2014_x86_64.whl.metadata (1.5 kB)\n",
            "Collecting nvidia-curand-cu12==10.3.5.147 (from torch<3.0.0,>=2.1.2->llama-index-llms-huggingface)\n",
            "  Downloading nvidia_curand_cu12-10.3.5.147-py3-none-manylinux2014_x86_64.whl.metadata (1.5 kB)\n",
            "Collecting nvidia-cusolver-cu12==11.6.1.9 (from torch<3.0.0,>=2.1.2->llama-index-llms-huggingface)\n",
            "  Downloading nvidia_cusolver_cu12-11.6.1.9-py3-none-manylinux2014_x86_64.whl.metadata (1.6 kB)\n",
            "Collecting nvidia-cusparse-cu12==12.3.1.170 (from torch<3.0.0,>=2.1.2->llama-index-llms-huggingface)\n",
            "  Downloading nvidia_cusparse_cu12-12.3.1.170-py3-none-manylinux2014_x86_64.whl.metadata (1.6 kB)\n",
            "Requirement already satisfied: nvidia-nccl-cu12==2.21.5 in /usr/local/lib/python3.11/dist-packages (from torch<3.0.0,>=2.1.2->llama-index-llms-huggingface) (2.21.5)\n",
            "Requirement already satisfied: nvidia-nvtx-cu12==12.4.127 in /usr/local/lib/python3.11/dist-packages (from torch<3.0.0,>=2.1.2->llama-index-llms-huggingface) (12.4.127)\n",
            "Collecting nvidia-nvjitlink-cu12==12.4.127 (from torch<3.0.0,>=2.1.2->llama-index-llms-huggingface)\n",
            "  Downloading nvidia_nvjitlink_cu12-12.4.127-py3-none-manylinux2014_x86_64.whl.metadata (1.5 kB)\n",
            "Requirement already satisfied: triton==3.1.0 in /usr/local/lib/python3.11/dist-packages (from torch<3.0.0,>=2.1.2->llama-index-llms-huggingface) (3.1.0)\n",
            "Requirement already satisfied: sympy==1.13.1 in /usr/local/lib/python3.11/dist-packages (from torch<3.0.0,>=2.1.2->llama-index-llms-huggingface) (1.13.1)\n",
            "Requirement already satisfied: mpmath<1.4,>=1.1.0 in /usr/local/lib/python3.11/dist-packages (from sympy==1.13.1->torch<3.0.0,>=2.1.2->llama-index-llms-huggingface) (1.3.0)\n",
            "Requirement already satisfied: regex!=2019.12.17 in /usr/local/lib/python3.11/dist-packages (from transformers<5.0.0,>=4.37.0->transformers[torch]<5.0.0,>=4.37.0->llama-index-llms-huggingface) (2024.11.6)\n",
            "Requirement already satisfied: tokenizers<0.22,>=0.21 in /usr/local/lib/python3.11/dist-packages (from transformers<5.0.0,>=4.37.0->transformers[torch]<5.0.0,>=4.37.0->llama-index-llms-huggingface) (0.21.0)\n",
            "Requirement already satisfied: safetensors>=0.4.1 in /usr/local/lib/python3.11/dist-packages (from transformers<5.0.0,>=4.37.0->transformers[torch]<5.0.0,>=4.37.0->llama-index-llms-huggingface) (0.5.2)\n",
            "Requirement already satisfied: accelerate>=0.26.0 in /usr/local/lib/python3.11/dist-packages (from transformers[torch]<5.0.0,>=4.37.0->llama-index-llms-huggingface) (1.2.1)\n",
            "Requirement already satisfied: psutil in /usr/local/lib/python3.11/dist-packages (from accelerate>=0.26.0->transformers[torch]<5.0.0,>=4.37.0->llama-index-llms-huggingface) (5.9.5)\n",
            "Requirement already satisfied: aiohappyeyeballs>=2.3.0 in /usr/local/lib/python3.11/dist-packages (from aiohttp<4.0.0,>=3.8.6->llama-index-core<0.13.0,>=0.12.0->llama-index-llms-huggingface) (2.4.4)\n",
            "Requirement already satisfied: aiosignal>=1.1.2 in /usr/local/lib/python3.11/dist-packages (from aiohttp<4.0.0,>=3.8.6->llama-index-core<0.13.0,>=0.12.0->llama-index-llms-huggingface) (1.3.2)\n",
            "Requirement already satisfied: attrs>=17.3.0 in /usr/local/lib/python3.11/dist-packages (from aiohttp<4.0.0,>=3.8.6->llama-index-core<0.13.0,>=0.12.0->llama-index-llms-huggingface) (25.1.0)\n",
            "Requirement already satisfied: frozenlist>=1.1.1 in /usr/local/lib/python3.11/dist-packages (from aiohttp<4.0.0,>=3.8.6->llama-index-core<0.13.0,>=0.12.0->llama-index-llms-huggingface) (1.5.0)\n",
            "Requirement already satisfied: multidict<7.0,>=4.5 in /usr/local/lib/python3.11/dist-packages (from aiohttp<4.0.0,>=3.8.6->llama-index-core<0.13.0,>=0.12.0->llama-index-llms-huggingface) (6.1.0)\n",
            "Requirement already satisfied: propcache>=0.2.0 in /usr/local/lib/python3.11/dist-packages (from aiohttp<4.0.0,>=3.8.6->llama-index-core<0.13.0,>=0.12.0->llama-index-llms-huggingface) (0.2.1)\n",
            "Requirement already satisfied: yarl<2.0,>=1.17.0 in /usr/local/lib/python3.11/dist-packages (from aiohttp<4.0.0,>=3.8.6->llama-index-core<0.13.0,>=0.12.0->llama-index-llms-huggingface) (1.18.3)\n",
            "Requirement already satisfied: click in /usr/local/lib/python3.11/dist-packages (from nltk>3.8.1->llama-index-core<0.13.0,>=0.12.0->llama-index-llms-huggingface) (8.1.8)\n",
            "Requirement already satisfied: joblib in /usr/local/lib/python3.11/dist-packages (from nltk>3.8.1->llama-index-core<0.13.0,>=0.12.0->llama-index-llms-huggingface) (1.4.2)\n",
            "Requirement already satisfied: annotated-types>=0.6.0 in /usr/local/lib/python3.11/dist-packages (from pydantic>=2.8.0->llama-index-core<0.13.0,>=0.12.0->llama-index-llms-huggingface) (0.7.0)\n",
            "Requirement already satisfied: pydantic-core==2.27.2 in /usr/local/lib/python3.11/dist-packages (from pydantic>=2.8.0->llama-index-core<0.13.0,>=0.12.0->llama-index-llms-huggingface) (2.27.2)\n",
            "Requirement already satisfied: charset-normalizer<4,>=2 in /usr/local/lib/python3.11/dist-packages (from requests->huggingface-hub>=0.23.0->llama-index-llms-huggingface) (3.4.1)\n",
            "Requirement already satisfied: idna<4,>=2.5 in /usr/local/lib/python3.11/dist-packages (from requests->huggingface-hub>=0.23.0->llama-index-llms-huggingface) (3.10)\n",
            "Requirement already satisfied: urllib3<3,>=1.21.1 in /usr/local/lib/python3.11/dist-packages (from requests->huggingface-hub>=0.23.0->llama-index-llms-huggingface) (2.3.0)\n",
            "Requirement already satisfied: certifi>=2017.4.17 in /usr/local/lib/python3.11/dist-packages (from requests->huggingface-hub>=0.23.0->llama-index-llms-huggingface) (2024.12.14)\n",
            "Requirement already satisfied: greenlet!=0.4.17 in /usr/local/lib/python3.11/dist-packages (from SQLAlchemy>=1.4.49->SQLAlchemy[asyncio]>=1.4.49->llama-index-core<0.13.0,>=0.12.0->llama-index-llms-huggingface) (3.1.1)\n",
            "Collecting mypy-extensions>=0.3.0 (from typing-inspect>=0.8.0->llama-index-core<0.13.0,>=0.12.0->llama-index-llms-huggingface)\n",
            "  Downloading mypy_extensions-1.0.0-py3-none-any.whl.metadata (1.1 kB)\n",
            "Collecting marshmallow<4.0.0,>=3.18.0 (from dataclasses-json->llama-index-core<0.13.0,>=0.12.0->llama-index-llms-huggingface)\n",
            "  Downloading marshmallow-3.26.0-py3-none-any.whl.metadata (7.3 kB)\n",
            "Requirement already satisfied: anyio in /usr/local/lib/python3.11/dist-packages (from httpx->llama-index-core<0.13.0,>=0.12.0->llama-index-llms-huggingface) (3.7.1)\n",
            "Requirement already satisfied: httpcore==1.* in /usr/local/lib/python3.11/dist-packages (from httpx->llama-index-core<0.13.0,>=0.12.0->llama-index-llms-huggingface) (1.0.7)\n",
            "Requirement already satisfied: h11<0.15,>=0.13 in /usr/local/lib/python3.11/dist-packages (from httpcore==1.*->httpx->llama-index-core<0.13.0,>=0.12.0->llama-index-llms-huggingface) (0.14.0)\n",
            "Requirement already satisfied: MarkupSafe>=2.0 in /usr/local/lib/python3.11/dist-packages (from jinja2->torch<3.0.0,>=2.1.2->llama-index-llms-huggingface) (3.0.2)\n",
            "Requirement already satisfied: sniffio>=1.1 in /usr/local/lib/python3.11/dist-packages (from anyio->httpx->llama-index-core<0.13.0,>=0.12.0->llama-index-llms-huggingface) (1.3.1)\n",
            "Downloading llama_index_llms_huggingface-0.4.2-py3-none-any.whl (11 kB)\n",
            "Downloading llama_index_core-0.12.15-py3-none-any.whl (1.6 MB)\n",
            "\u001b[2K   \u001b[90m━━━━━━━━━━━━━━━━━━━━━━━━━━━━━━━━━━━━━━━━\u001b[0m \u001b[32m1.6/1.6 MB\u001b[0m \u001b[31m22.5 MB/s\u001b[0m eta \u001b[36m0:00:00\u001b[0m\n",
            "\u001b[?25hDownloading text_generation-0.7.0-py3-none-any.whl (12 kB)\n",
            "Downloading nvidia_cublas_cu12-12.4.5.8-py3-none-manylinux2014_x86_64.whl (363.4 MB)\n",
            "\u001b[2K   \u001b[90m━━━━━━━━━━━━━━━━━━━━━━━━━━━━━━━━━━━━━━━━\u001b[0m \u001b[32m363.4/363.4 MB\u001b[0m \u001b[31m2.8 MB/s\u001b[0m eta \u001b[36m0:00:00\u001b[0m\n",
            "\u001b[?25hDownloading nvidia_cuda_cupti_cu12-12.4.127-py3-none-manylinux2014_x86_64.whl (13.8 MB)\n",
            "\u001b[2K   \u001b[90m━━━━━━━━━━━━━━━━━━━━━━━━━━━━━━━━━━━━━━━━\u001b[0m \u001b[32m13.8/13.8 MB\u001b[0m \u001b[31m102.9 MB/s\u001b[0m eta \u001b[36m0:00:00\u001b[0m\n",
            "\u001b[?25hDownloading nvidia_cuda_nvrtc_cu12-12.4.127-py3-none-manylinux2014_x86_64.whl (24.6 MB)\n",
            "\u001b[2K   \u001b[90m━━━━━━━━━━━━━━━━━━━━━━━━━━━━━━━━━━━━━━━━\u001b[0m \u001b[32m24.6/24.6 MB\u001b[0m \u001b[31m83.8 MB/s\u001b[0m eta \u001b[36m0:00:00\u001b[0m\n",
            "\u001b[?25hDownloading nvidia_cuda_runtime_cu12-12.4.127-py3-none-manylinux2014_x86_64.whl (883 kB)\n",
            "\u001b[2K   \u001b[90m━━━━━━━━━━━━━━━━━━━━━━━━━━━━━━━━━━━━━━━━\u001b[0m \u001b[32m883.7/883.7 kB\u001b[0m \u001b[31m53.7 MB/s\u001b[0m eta \u001b[36m0:00:00\u001b[0m\n",
            "\u001b[?25hDownloading nvidia_cudnn_cu12-9.1.0.70-py3-none-manylinux2014_x86_64.whl (664.8 MB)\n",
            "\u001b[2K   \u001b[90m━━━━━━━━━━━━━━━━━━━━━━━━━━━━━━━━━━━━━━━━\u001b[0m \u001b[32m664.8/664.8 MB\u001b[0m \u001b[31m2.5 MB/s\u001b[0m eta \u001b[36m0:00:00\u001b[0m\n",
            "\u001b[?25hDownloading nvidia_cufft_cu12-11.2.1.3-py3-none-manylinux2014_x86_64.whl (211.5 MB)\n",
            "\u001b[2K   \u001b[90m━━━━━━━━━━━━━━━━━━━━━━━━━━━━━━━━━━━━━━━━\u001b[0m \u001b[32m211.5/211.5 MB\u001b[0m \u001b[31m5.5 MB/s\u001b[0m eta \u001b[36m0:00:00\u001b[0m\n",
            "\u001b[?25hDownloading nvidia_curand_cu12-10.3.5.147-py3-none-manylinux2014_x86_64.whl (56.3 MB)\n",
            "\u001b[2K   \u001b[90m━━━━━━━━━━━━━━━━━━━━━━━━━━━━━━━━━━━━━━━━\u001b[0m \u001b[32m56.3/56.3 MB\u001b[0m \u001b[31m10.5 MB/s\u001b[0m eta \u001b[36m0:00:00\u001b[0m\n",
            "\u001b[?25hDownloading nvidia_cusolver_cu12-11.6.1.9-py3-none-manylinux2014_x86_64.whl (127.9 MB)\n",
            "\u001b[2K   \u001b[90m━━━━━━━━━━━━━━━━━━━━━━━━━━━━━━━━━━━━━━━━\u001b[0m \u001b[32m127.9/127.9 MB\u001b[0m \u001b[31m7.5 MB/s\u001b[0m eta \u001b[36m0:00:00\u001b[0m\n",
            "\u001b[?25hDownloading nvidia_cusparse_cu12-12.3.1.170-py3-none-manylinux2014_x86_64.whl (207.5 MB)\n",
            "\u001b[2K   \u001b[90m━━━━━━━━━━━━━━━━━━━━━━━━━━━━━━━━━━━━━━━━\u001b[0m \u001b[32m207.5/207.5 MB\u001b[0m \u001b[31m6.1 MB/s\u001b[0m eta \u001b[36m0:00:00\u001b[0m\n",
            "\u001b[?25hDownloading nvidia_nvjitlink_cu12-12.4.127-py3-none-manylinux2014_x86_64.whl (21.1 MB)\n",
            "\u001b[2K   \u001b[90m━━━━━━━━━━━━━━━━━━━━━━━━━━━━━━━━━━━━━━━━\u001b[0m \u001b[32m21.1/21.1 MB\u001b[0m \u001b[31m52.1 MB/s\u001b[0m eta \u001b[36m0:00:00\u001b[0m\n",
            "\u001b[?25hDownloading dirtyjson-1.0.8-py3-none-any.whl (25 kB)\n",
            "Downloading filetype-1.2.0-py2.py3-none-any.whl (19 kB)\n",
            "Downloading tiktoken-0.8.0-cp311-cp311-manylinux_2_17_x86_64.manylinux2014_x86_64.whl (1.2 MB)\n",
            "\u001b[2K   \u001b[90m━━━━━━━━━━━━━━━━━━━━━━━━━━━━━━━━━━━━━━━━\u001b[0m \u001b[32m1.2/1.2 MB\u001b[0m \u001b[31m51.9 MB/s\u001b[0m eta \u001b[36m0:00:00\u001b[0m\n",
            "\u001b[?25hDownloading typing_inspect-0.9.0-py3-none-any.whl (8.8 kB)\n",
            "Downloading dataclasses_json-0.6.7-py3-none-any.whl (28 kB)\n",
            "Downloading marshmallow-3.26.0-py3-none-any.whl (50 kB)\n",
            "\u001b[2K   \u001b[90m━━━━━━━━━━━━━━━━━━━━━━━━━━━━━━━━━━━━━━━━\u001b[0m \u001b[32m50.8/50.8 kB\u001b[0m \u001b[31m4.3 MB/s\u001b[0m eta \u001b[36m0:00:00\u001b[0m\n",
            "\u001b[?25hDownloading mypy_extensions-1.0.0-py3-none-any.whl (4.7 kB)\n",
            "Installing collected packages: filetype, dirtyjson, nvidia-nvjitlink-cu12, nvidia-curand-cu12, nvidia-cufft-cu12, nvidia-cuda-runtime-cu12, nvidia-cuda-nvrtc-cu12, nvidia-cuda-cupti-cu12, nvidia-cublas-cu12, mypy-extensions, marshmallow, typing-inspect, tiktoken, nvidia-cusparse-cu12, nvidia-cudnn-cu12, text-generation, nvidia-cusolver-cu12, dataclasses-json, llama-index-core, llama-index-llms-huggingface\n",
            "  Attempting uninstall: nvidia-nvjitlink-cu12\n",
            "    Found existing installation: nvidia-nvjitlink-cu12 12.5.82\n",
            "    Uninstalling nvidia-nvjitlink-cu12-12.5.82:\n",
            "      Successfully uninstalled nvidia-nvjitlink-cu12-12.5.82\n",
            "  Attempting uninstall: nvidia-curand-cu12\n",
            "    Found existing installation: nvidia-curand-cu12 10.3.6.82\n",
            "    Uninstalling nvidia-curand-cu12-10.3.6.82:\n",
            "      Successfully uninstalled nvidia-curand-cu12-10.3.6.82\n",
            "  Attempting uninstall: nvidia-cufft-cu12\n",
            "    Found existing installation: nvidia-cufft-cu12 11.2.3.61\n",
            "    Uninstalling nvidia-cufft-cu12-11.2.3.61:\n",
            "      Successfully uninstalled nvidia-cufft-cu12-11.2.3.61\n",
            "  Attempting uninstall: nvidia-cuda-runtime-cu12\n",
            "    Found existing installation: nvidia-cuda-runtime-cu12 12.5.82\n",
            "    Uninstalling nvidia-cuda-runtime-cu12-12.5.82:\n",
            "      Successfully uninstalled nvidia-cuda-runtime-cu12-12.5.82\n",
            "  Attempting uninstall: nvidia-cuda-nvrtc-cu12\n",
            "    Found existing installation: nvidia-cuda-nvrtc-cu12 12.5.82\n",
            "    Uninstalling nvidia-cuda-nvrtc-cu12-12.5.82:\n",
            "      Successfully uninstalled nvidia-cuda-nvrtc-cu12-12.5.82\n",
            "  Attempting uninstall: nvidia-cuda-cupti-cu12\n",
            "    Found existing installation: nvidia-cuda-cupti-cu12 12.5.82\n",
            "    Uninstalling nvidia-cuda-cupti-cu12-12.5.82:\n",
            "      Successfully uninstalled nvidia-cuda-cupti-cu12-12.5.82\n",
            "  Attempting uninstall: nvidia-cublas-cu12\n",
            "    Found existing installation: nvidia-cublas-cu12 12.5.3.2\n",
            "    Uninstalling nvidia-cublas-cu12-12.5.3.2:\n",
            "      Successfully uninstalled nvidia-cublas-cu12-12.5.3.2\n",
            "  Attempting uninstall: nvidia-cusparse-cu12\n",
            "    Found existing installation: nvidia-cusparse-cu12 12.5.1.3\n",
            "    Uninstalling nvidia-cusparse-cu12-12.5.1.3:\n",
            "      Successfully uninstalled nvidia-cusparse-cu12-12.5.1.3\n",
            "  Attempting uninstall: nvidia-cudnn-cu12\n",
            "    Found existing installation: nvidia-cudnn-cu12 9.3.0.75\n",
            "    Uninstalling nvidia-cudnn-cu12-9.3.0.75:\n",
            "      Successfully uninstalled nvidia-cudnn-cu12-9.3.0.75\n",
            "  Attempting uninstall: nvidia-cusolver-cu12\n",
            "    Found existing installation: nvidia-cusolver-cu12 11.6.3.83\n",
            "    Uninstalling nvidia-cusolver-cu12-11.6.3.83:\n",
            "      Successfully uninstalled nvidia-cusolver-cu12-11.6.3.83\n",
            "Successfully installed dataclasses-json-0.6.7 dirtyjson-1.0.8 filetype-1.2.0 llama-index-core-0.12.15 llama-index-llms-huggingface-0.4.2 marshmallow-3.26.0 mypy-extensions-1.0.0 nvidia-cublas-cu12-12.4.5.8 nvidia-cuda-cupti-cu12-12.4.127 nvidia-cuda-nvrtc-cu12-12.4.127 nvidia-cuda-runtime-cu12-12.4.127 nvidia-cudnn-cu12-9.1.0.70 nvidia-cufft-cu12-11.2.1.3 nvidia-curand-cu12-10.3.5.147 nvidia-cusolver-cu12-11.6.1.9 nvidia-cusparse-cu12-12.3.1.170 nvidia-nvjitlink-cu12-12.4.127 text-generation-0.7.0 tiktoken-0.8.0 typing-inspect-0.9.0\n"
          ]
        }
      ]
    },
    {
      "cell_type": "code",
      "source": [
        "!pip install llama-index"
      ],
      "metadata": {
        "colab": {
          "base_uri": "https://localhost:8080/"
        },
        "id": "ap3PQGao5mzC",
        "outputId": "ed522def-76f0-46a1-fb48-99364854aadf"
      },
      "execution_count": 2,
      "outputs": [
        {
          "output_type": "stream",
          "name": "stdout",
          "text": [
            "Collecting llama-index\n",
            "  Downloading llama_index-0.12.15-py3-none-any.whl.metadata (12 kB)\n",
            "Collecting llama-index-agent-openai<0.5.0,>=0.4.0 (from llama-index)\n",
            "  Downloading llama_index_agent_openai-0.4.3-py3-none-any.whl.metadata (727 bytes)\n",
            "Collecting llama-index-cli<0.5.0,>=0.4.0 (from llama-index)\n",
            "  Downloading llama_index_cli-0.4.0-py3-none-any.whl.metadata (1.5 kB)\n",
            "Requirement already satisfied: llama-index-core<0.13.0,>=0.12.15 in /usr/local/lib/python3.11/dist-packages (from llama-index) (0.12.15)\n",
            "Collecting llama-index-embeddings-openai<0.4.0,>=0.3.0 (from llama-index)\n",
            "  Downloading llama_index_embeddings_openai-0.3.1-py3-none-any.whl.metadata (684 bytes)\n",
            "Collecting llama-index-indices-managed-llama-cloud>=0.4.0 (from llama-index)\n",
            "  Downloading llama_index_indices_managed_llama_cloud-0.6.4-py3-none-any.whl.metadata (3.6 kB)\n",
            "Collecting llama-index-llms-openai<0.4.0,>=0.3.0 (from llama-index)\n",
            "  Downloading llama_index_llms_openai-0.3.16-py3-none-any.whl.metadata (3.3 kB)\n",
            "Collecting llama-index-multi-modal-llms-openai<0.5.0,>=0.4.0 (from llama-index)\n",
            "  Downloading llama_index_multi_modal_llms_openai-0.4.3-py3-none-any.whl.metadata (726 bytes)\n",
            "Collecting llama-index-program-openai<0.4.0,>=0.3.0 (from llama-index)\n",
            "  Downloading llama_index_program_openai-0.3.1-py3-none-any.whl.metadata (764 bytes)\n",
            "Collecting llama-index-question-gen-openai<0.4.0,>=0.3.0 (from llama-index)\n",
            "  Downloading llama_index_question_gen_openai-0.3.0-py3-none-any.whl.metadata (783 bytes)\n",
            "Collecting llama-index-readers-file<0.5.0,>=0.4.0 (from llama-index)\n",
            "  Downloading llama_index_readers_file-0.4.4-py3-none-any.whl.metadata (5.4 kB)\n",
            "Collecting llama-index-readers-llama-parse>=0.4.0 (from llama-index)\n",
            "  Downloading llama_index_readers_llama_parse-0.4.0-py3-none-any.whl.metadata (3.6 kB)\n",
            "Requirement already satisfied: nltk>3.8.1 in /usr/local/lib/python3.11/dist-packages (from llama-index) (3.9.1)\n",
            "Requirement already satisfied: openai>=1.14.0 in /usr/local/lib/python3.11/dist-packages (from llama-index-agent-openai<0.5.0,>=0.4.0->llama-index) (1.59.9)\n",
            "Requirement already satisfied: PyYAML>=6.0.1 in /usr/local/lib/python3.11/dist-packages (from llama-index-core<0.13.0,>=0.12.15->llama-index) (6.0.2)\n",
            "Requirement already satisfied: SQLAlchemy>=1.4.49 in /usr/local/lib/python3.11/dist-packages (from SQLAlchemy[asyncio]>=1.4.49->llama-index-core<0.13.0,>=0.12.15->llama-index) (2.0.37)\n",
            "Requirement already satisfied: aiohttp<4.0.0,>=3.8.6 in /usr/local/lib/python3.11/dist-packages (from llama-index-core<0.13.0,>=0.12.15->llama-index) (3.11.11)\n",
            "Requirement already satisfied: dataclasses-json in /usr/local/lib/python3.11/dist-packages (from llama-index-core<0.13.0,>=0.12.15->llama-index) (0.6.7)\n",
            "Requirement already satisfied: deprecated>=1.2.9.3 in /usr/local/lib/python3.11/dist-packages (from llama-index-core<0.13.0,>=0.12.15->llama-index) (1.2.18)\n",
            "Requirement already satisfied: dirtyjson<2.0.0,>=1.0.8 in /usr/local/lib/python3.11/dist-packages (from llama-index-core<0.13.0,>=0.12.15->llama-index) (1.0.8)\n",
            "Requirement already satisfied: filetype<2.0.0,>=1.2.0 in /usr/local/lib/python3.11/dist-packages (from llama-index-core<0.13.0,>=0.12.15->llama-index) (1.2.0)\n",
            "Requirement already satisfied: fsspec>=2023.5.0 in /usr/local/lib/python3.11/dist-packages (from llama-index-core<0.13.0,>=0.12.15->llama-index) (2024.10.0)\n",
            "Requirement already satisfied: httpx in /usr/local/lib/python3.11/dist-packages (from llama-index-core<0.13.0,>=0.12.15->llama-index) (0.28.1)\n",
            "Requirement already satisfied: nest-asyncio<2.0.0,>=1.5.8 in /usr/local/lib/python3.11/dist-packages (from llama-index-core<0.13.0,>=0.12.15->llama-index) (1.6.0)\n",
            "Requirement already satisfied: networkx>=3.0 in /usr/local/lib/python3.11/dist-packages (from llama-index-core<0.13.0,>=0.12.15->llama-index) (3.4.2)\n",
            "Requirement already satisfied: numpy in /usr/local/lib/python3.11/dist-packages (from llama-index-core<0.13.0,>=0.12.15->llama-index) (1.26.4)\n",
            "Requirement already satisfied: pillow>=9.0.0 in /usr/local/lib/python3.11/dist-packages (from llama-index-core<0.13.0,>=0.12.15->llama-index) (11.1.0)\n",
            "Requirement already satisfied: pydantic>=2.8.0 in /usr/local/lib/python3.11/dist-packages (from llama-index-core<0.13.0,>=0.12.15->llama-index) (2.10.6)\n",
            "Requirement already satisfied: requests>=2.31.0 in /usr/local/lib/python3.11/dist-packages (from llama-index-core<0.13.0,>=0.12.15->llama-index) (2.32.3)\n",
            "Requirement already satisfied: tenacity!=8.4.0,<10.0.0,>=8.2.0 in /usr/local/lib/python3.11/dist-packages (from llama-index-core<0.13.0,>=0.12.15->llama-index) (9.0.0)\n",
            "Requirement already satisfied: tiktoken>=0.3.3 in /usr/local/lib/python3.11/dist-packages (from llama-index-core<0.13.0,>=0.12.15->llama-index) (0.8.0)\n",
            "Requirement already satisfied: tqdm<5.0.0,>=4.66.1 in /usr/local/lib/python3.11/dist-packages (from llama-index-core<0.13.0,>=0.12.15->llama-index) (4.67.1)\n",
            "Requirement already satisfied: typing-extensions>=4.5.0 in /usr/local/lib/python3.11/dist-packages (from llama-index-core<0.13.0,>=0.12.15->llama-index) (4.12.2)\n",
            "Requirement already satisfied: typing-inspect>=0.8.0 in /usr/local/lib/python3.11/dist-packages (from llama-index-core<0.13.0,>=0.12.15->llama-index) (0.9.0)\n",
            "Requirement already satisfied: wrapt in /usr/local/lib/python3.11/dist-packages (from llama-index-core<0.13.0,>=0.12.15->llama-index) (1.17.2)\n",
            "Collecting llama-cloud<0.2.0,>=0.1.8 (from llama-index-indices-managed-llama-cloud>=0.4.0->llama-index)\n",
            "  Downloading llama_cloud-0.1.11-py3-none-any.whl.metadata (912 bytes)\n",
            "Requirement already satisfied: beautifulsoup4<5.0.0,>=4.12.3 in /usr/local/lib/python3.11/dist-packages (from llama-index-readers-file<0.5.0,>=0.4.0->llama-index) (4.12.3)\n",
            "Requirement already satisfied: pandas in /usr/local/lib/python3.11/dist-packages (from llama-index-readers-file<0.5.0,>=0.4.0->llama-index) (2.2.2)\n",
            "Collecting pypdf<6.0.0,>=5.1.0 (from llama-index-readers-file<0.5.0,>=0.4.0->llama-index)\n",
            "  Downloading pypdf-5.2.0-py3-none-any.whl.metadata (7.2 kB)\n",
            "Collecting striprtf<0.0.27,>=0.0.26 (from llama-index-readers-file<0.5.0,>=0.4.0->llama-index)\n",
            "  Downloading striprtf-0.0.26-py3-none-any.whl.metadata (2.1 kB)\n",
            "Collecting llama-parse>=0.5.0 (from llama-index-readers-llama-parse>=0.4.0->llama-index)\n",
            "  Downloading llama_parse-0.5.20-py3-none-any.whl.metadata (6.9 kB)\n",
            "Requirement already satisfied: click in /usr/local/lib/python3.11/dist-packages (from nltk>3.8.1->llama-index) (8.1.8)\n",
            "Requirement already satisfied: joblib in /usr/local/lib/python3.11/dist-packages (from nltk>3.8.1->llama-index) (1.4.2)\n",
            "Requirement already satisfied: regex>=2021.8.3 in /usr/local/lib/python3.11/dist-packages (from nltk>3.8.1->llama-index) (2024.11.6)\n",
            "Requirement already satisfied: aiohappyeyeballs>=2.3.0 in /usr/local/lib/python3.11/dist-packages (from aiohttp<4.0.0,>=3.8.6->llama-index-core<0.13.0,>=0.12.15->llama-index) (2.4.4)\n",
            "Requirement already satisfied: aiosignal>=1.1.2 in /usr/local/lib/python3.11/dist-packages (from aiohttp<4.0.0,>=3.8.6->llama-index-core<0.13.0,>=0.12.15->llama-index) (1.3.2)\n",
            "Requirement already satisfied: attrs>=17.3.0 in /usr/local/lib/python3.11/dist-packages (from aiohttp<4.0.0,>=3.8.6->llama-index-core<0.13.0,>=0.12.15->llama-index) (25.1.0)\n",
            "Requirement already satisfied: frozenlist>=1.1.1 in /usr/local/lib/python3.11/dist-packages (from aiohttp<4.0.0,>=3.8.6->llama-index-core<0.13.0,>=0.12.15->llama-index) (1.5.0)\n",
            "Requirement already satisfied: multidict<7.0,>=4.5 in /usr/local/lib/python3.11/dist-packages (from aiohttp<4.0.0,>=3.8.6->llama-index-core<0.13.0,>=0.12.15->llama-index) (6.1.0)\n",
            "Requirement already satisfied: propcache>=0.2.0 in /usr/local/lib/python3.11/dist-packages (from aiohttp<4.0.0,>=3.8.6->llama-index-core<0.13.0,>=0.12.15->llama-index) (0.2.1)\n",
            "Requirement already satisfied: yarl<2.0,>=1.17.0 in /usr/local/lib/python3.11/dist-packages (from aiohttp<4.0.0,>=3.8.6->llama-index-core<0.13.0,>=0.12.15->llama-index) (1.18.3)\n",
            "Requirement already satisfied: soupsieve>1.2 in /usr/local/lib/python3.11/dist-packages (from beautifulsoup4<5.0.0,>=4.12.3->llama-index-readers-file<0.5.0,>=0.4.0->llama-index) (2.6)\n",
            "Requirement already satisfied: certifi<2025.0.0,>=2024.7.4 in /usr/local/lib/python3.11/dist-packages (from llama-cloud<0.2.0,>=0.1.8->llama-index-indices-managed-llama-cloud>=0.4.0->llama-index) (2024.12.14)\n",
            "Requirement already satisfied: anyio in /usr/local/lib/python3.11/dist-packages (from httpx->llama-index-core<0.13.0,>=0.12.15->llama-index) (3.7.1)\n",
            "Requirement already satisfied: httpcore==1.* in /usr/local/lib/python3.11/dist-packages (from httpx->llama-index-core<0.13.0,>=0.12.15->llama-index) (1.0.7)\n",
            "Requirement already satisfied: idna in /usr/local/lib/python3.11/dist-packages (from httpx->llama-index-core<0.13.0,>=0.12.15->llama-index) (3.10)\n",
            "Requirement already satisfied: h11<0.15,>=0.13 in /usr/local/lib/python3.11/dist-packages (from httpcore==1.*->httpx->llama-index-core<0.13.0,>=0.12.15->llama-index) (0.14.0)\n",
            "Requirement already satisfied: distro<2,>=1.7.0 in /usr/local/lib/python3.11/dist-packages (from openai>=1.14.0->llama-index-agent-openai<0.5.0,>=0.4.0->llama-index) (1.9.0)\n",
            "Requirement already satisfied: jiter<1,>=0.4.0 in /usr/local/lib/python3.11/dist-packages (from openai>=1.14.0->llama-index-agent-openai<0.5.0,>=0.4.0->llama-index) (0.8.2)\n",
            "Requirement already satisfied: sniffio in /usr/local/lib/python3.11/dist-packages (from openai>=1.14.0->llama-index-agent-openai<0.5.0,>=0.4.0->llama-index) (1.3.1)\n",
            "Requirement already satisfied: annotated-types>=0.6.0 in /usr/local/lib/python3.11/dist-packages (from pydantic>=2.8.0->llama-index-core<0.13.0,>=0.12.15->llama-index) (0.7.0)\n",
            "Requirement already satisfied: pydantic-core==2.27.2 in /usr/local/lib/python3.11/dist-packages (from pydantic>=2.8.0->llama-index-core<0.13.0,>=0.12.15->llama-index) (2.27.2)\n",
            "Requirement already satisfied: charset-normalizer<4,>=2 in /usr/local/lib/python3.11/dist-packages (from requests>=2.31.0->llama-index-core<0.13.0,>=0.12.15->llama-index) (3.4.1)\n",
            "Requirement already satisfied: urllib3<3,>=1.21.1 in /usr/local/lib/python3.11/dist-packages (from requests>=2.31.0->llama-index-core<0.13.0,>=0.12.15->llama-index) (2.3.0)\n",
            "Requirement already satisfied: greenlet!=0.4.17 in /usr/local/lib/python3.11/dist-packages (from SQLAlchemy>=1.4.49->SQLAlchemy[asyncio]>=1.4.49->llama-index-core<0.13.0,>=0.12.15->llama-index) (3.1.1)\n",
            "Requirement already satisfied: mypy-extensions>=0.3.0 in /usr/local/lib/python3.11/dist-packages (from typing-inspect>=0.8.0->llama-index-core<0.13.0,>=0.12.15->llama-index) (1.0.0)\n",
            "Requirement already satisfied: marshmallow<4.0.0,>=3.18.0 in /usr/local/lib/python3.11/dist-packages (from dataclasses-json->llama-index-core<0.13.0,>=0.12.15->llama-index) (3.26.0)\n",
            "Requirement already satisfied: python-dateutil>=2.8.2 in /usr/local/lib/python3.11/dist-packages (from pandas->llama-index-readers-file<0.5.0,>=0.4.0->llama-index) (2.8.2)\n",
            "Requirement already satisfied: pytz>=2020.1 in /usr/local/lib/python3.11/dist-packages (from pandas->llama-index-readers-file<0.5.0,>=0.4.0->llama-index) (2024.2)\n",
            "Requirement already satisfied: tzdata>=2022.7 in /usr/local/lib/python3.11/dist-packages (from pandas->llama-index-readers-file<0.5.0,>=0.4.0->llama-index) (2025.1)\n",
            "Requirement already satisfied: packaging>=17.0 in /usr/local/lib/python3.11/dist-packages (from marshmallow<4.0.0,>=3.18.0->dataclasses-json->llama-index-core<0.13.0,>=0.12.15->llama-index) (24.2)\n",
            "Requirement already satisfied: six>=1.5 in /usr/local/lib/python3.11/dist-packages (from python-dateutil>=2.8.2->pandas->llama-index-readers-file<0.5.0,>=0.4.0->llama-index) (1.17.0)\n",
            "Downloading llama_index-0.12.15-py3-none-any.whl (6.9 kB)\n",
            "Downloading llama_index_agent_openai-0.4.3-py3-none-any.whl (13 kB)\n",
            "Downloading llama_index_cli-0.4.0-py3-none-any.whl (27 kB)\n",
            "Downloading llama_index_embeddings_openai-0.3.1-py3-none-any.whl (6.2 kB)\n",
            "Downloading llama_index_indices_managed_llama_cloud-0.6.4-py3-none-any.whl (13 kB)\n",
            "Downloading llama_index_llms_openai-0.3.16-py3-none-any.whl (14 kB)\n",
            "Downloading llama_index_multi_modal_llms_openai-0.4.3-py3-none-any.whl (5.9 kB)\n",
            "Downloading llama_index_program_openai-0.3.1-py3-none-any.whl (5.3 kB)\n",
            "Downloading llama_index_question_gen_openai-0.3.0-py3-none-any.whl (2.9 kB)\n",
            "Downloading llama_index_readers_file-0.4.4-py3-none-any.whl (39 kB)\n",
            "Downloading llama_index_readers_llama_parse-0.4.0-py3-none-any.whl (2.5 kB)\n",
            "Downloading llama_cloud-0.1.11-py3-none-any.whl (250 kB)\n",
            "\u001b[2K   \u001b[90m━━━━━━━━━━━━━━━━━━━━━━━━━━━━━━━━━━━━━━━━\u001b[0m \u001b[32m250.6/250.6 kB\u001b[0m \u001b[31m7.0 MB/s\u001b[0m eta \u001b[36m0:00:00\u001b[0m\n",
            "\u001b[?25hDownloading llama_parse-0.5.20-py3-none-any.whl (16 kB)\n",
            "Downloading pypdf-5.2.0-py3-none-any.whl (298 kB)\n",
            "\u001b[2K   \u001b[90m━━━━━━━━━━━━━━━━━━━━━━━━━━━━━━━━━━━━━━━━\u001b[0m \u001b[32m298.7/298.7 kB\u001b[0m \u001b[31m22.4 MB/s\u001b[0m eta \u001b[36m0:00:00\u001b[0m\n",
            "\u001b[?25hDownloading striprtf-0.0.26-py3-none-any.whl (6.9 kB)\n",
            "Installing collected packages: striprtf, pypdf, llama-cloud, llama-parse, llama-index-readers-file, llama-index-llms-openai, llama-index-indices-managed-llama-cloud, llama-index-embeddings-openai, llama-index-readers-llama-parse, llama-index-multi-modal-llms-openai, llama-index-cli, llama-index-agent-openai, llama-index-program-openai, llama-index-question-gen-openai, llama-index\n",
            "Successfully installed llama-cloud-0.1.11 llama-index-0.12.15 llama-index-agent-openai-0.4.3 llama-index-cli-0.4.0 llama-index-embeddings-openai-0.3.1 llama-index-indices-managed-llama-cloud-0.6.4 llama-index-llms-openai-0.3.16 llama-index-multi-modal-llms-openai-0.4.3 llama-index-program-openai-0.3.1 llama-index-question-gen-openai-0.3.0 llama-index-readers-file-0.4.4 llama-index-readers-llama-parse-0.4.0 llama-parse-0.5.20 pypdf-5.2.0 striprtf-0.0.26\n"
          ]
        }
      ]
    },
    {
      "cell_type": "code",
      "source": [
        "import logging\n",
        "import sys\n",
        "\n",
        "logging.basicConfig(stream=sys.stdout, level=logging.INFO)\n",
        "logging.getLogger().addHandler(logging.StreamHandler(stream=sys.stdout))\n",
        "\n",
        "from llama_index.core import VectorStoreIndex, SimpleDirectoryReader\n",
        "from llama_index.llms.huggingface import HuggingFaceLLM\n",
        "from llama_index.core import Settings"
      ],
      "metadata": {
        "id": "HH-xV9cc5ph0"
      },
      "execution_count": 3,
      "outputs": []
    },
    {
      "cell_type": "code",
      "source": [
        "!mkdir data"
      ],
      "metadata": {
        "id": "DT2kdlaB5s1N"
      },
      "execution_count": 4,
      "outputs": []
    },
    {
      "cell_type": "code",
      "source": [
        "# load documents\n",
        "documents = SimpleDirectoryReader(\"./data/\").load_data()"
      ],
      "metadata": {
        "id": "eYe11Gha6rIT"
      },
      "execution_count": 5,
      "outputs": []
    },
    {
      "cell_type": "code",
      "source": [
        "print(documents)"
      ],
      "metadata": {
        "colab": {
          "base_uri": "https://localhost:8080/"
        },
        "id": "diOaOExq6weW",
        "outputId": "a81b1365-e742-4311-84f4-3b93fd23a325"
      },
      "execution_count": 6,
      "outputs": [
        {
          "output_type": "stream",
          "name": "stdout",
          "text": [
            "[Document(id_='8b4c953e-9f48-40da-9136-d33e84073a88', embedding=None, metadata={'page_label': '1', 'file_name': 'MachineTranslationwithAttention.pdf', 'file_path': '/content/data/MachineTranslationwithAttention.pdf', 'file_type': 'application/pdf', 'file_size': 482135, 'creation_date': '2025-02-03', 'last_modified_date': '2025-02-03'}, excluded_embed_metadata_keys=['file_name', 'file_type', 'file_size', 'creation_date', 'last_modified_date', 'last_accessed_date'], excluded_llm_metadata_keys=['file_name', 'file_type', 'file_size', 'creation_date', 'last_modified_date', 'last_accessed_date'], relationships={}, metadata_template='{key}: {value}', metadata_separator='\\n', text_resource=MediaResource(embeddings=None, data=None, text='See discussions, stats, and author profiles for this publication at: https://www.researchgate.net/publication/355917108\\nNeural Machine Translation with Attention\\nTechnical Report · August 2021\\nDOI: 10.13140/RG.2.2.29381.37607/1\\nCITATIONS\\n2\\nREADS\\n7,741\\n2 authors:\\nMohammad Wasil Saleem\\nUniversität Potsdam\\n4 PUBLICATIONS\\xa0\\xa0\\xa03 CITATIONS\\xa0\\xa0\\xa0\\nSEE PROFILE\\nSandeep Uprety\\nUniversität Potsdam\\n1 PUBLICATION\\xa0\\xa0\\xa02 CITATIONS\\xa0\\xa0\\xa0\\nSEE PROFILE\\nAll content following this page was uploaded by Sandeep Uprety on 05 November 2021.\\nThe user has requested enhancement of the downloaded file.', path=None, url=None, mimetype=None), image_resource=None, audio_resource=None, video_resource=None, text_template='{metadata_str}\\n\\n{content}'), Document(id_='9f28187a-c416-432f-a5e3-7c0236cfc46e', embedding=None, metadata={'page_label': '2', 'file_name': 'MachineTranslationwithAttention.pdf', 'file_path': '/content/data/MachineTranslationwithAttention.pdf', 'file_type': 'application/pdf', 'file_size': 482135, 'creation_date': '2025-02-03', 'last_modified_date': '2025-02-03'}, excluded_embed_metadata_keys=['file_name', 'file_type', 'file_size', 'creation_date', 'last_modified_date', 'last_accessed_date'], excluded_llm_metadata_keys=['file_name', 'file_type', 'file_size', 'creation_date', 'last_modified_date', 'last_accessed_date'], relationships={}, metadata_template='{key}: {value}', metadata_separator='\\n', text_resource=MediaResource(embeddings=None, data=None, text='Neural Machine Translation with Attention\\nMohammad Wasil Saleem\\nMatrikel-Nr.: 805779\\nUniversit¨at Potsdam\\nsaleem1@uni-potsdam.de\\nSandeep Uprety\\nMatrikel-Nr. 804982\\nUniversit¨at Potsdam\\nuprety@uni-potsdam.de\\nAbstract\\nIn recent years, the success achieved\\nthrough neural machine translation has\\nmade it mainstream in machine translation\\nsystems. In this work, encoder-decoder\\nwith attention system based on ”Neural\\nMachine Translation by Jointly Learning\\nto Align and Translate” by Bahdanau et al.\\n(2014) has been used to accomplish the\\nMachine Translation between English and\\nSpanish Language which has not seen\\nmuch research work done as compared\\nto other languages such as German and\\nFrench. We aim to demonstrate the re-\\nsults similar to the breakthrough paper on\\nwhich our work is based on. We achieved\\na BLEU score of 25.37, which was close\\nenough to what Bahdanau et al. (2014)\\nachieved in their work.\\n1 Introduction\\nMachine Translation (MT) is the task of translat-\\ning text without human assistance while preserv-\\ning the meaning of input text. The early approach\\nto machine translation relied heavily on hand-\\ncrafted translation rules and linguistic knowledge.\\nStarted in early around 1950s, unlike rule-based\\nmachine translation, Statistical machine transla-\\ntion (SMT) generated translations based on statis-\\ntical models whose parameters are derived from\\nthe analysis of bilingual text corpora (Koehn et al.,\\n2003). Though reliable, for SMT, it can be hard\\nto ﬁnd content for obscure languages and is less\\nsuitable for language pairs with big differences\\nin word order making the quality of translation\\nfar from satisfactory. With the progress in deep\\nlearning being applied to MT, in 2014, end-to-end\\nneural network translation model was proposed\\nby (Bahdanau et al., 2014; Sutskever et al., 2014)\\nwhere the term ”neural machine translation” was\\nformally used. Neural machine translation (NMT)\\nis the newest method of MT that uses a single\\nlarge neural network to model the entire transla-\\ntion process, freeing the need for excessive fea-\\nture engineering. Through the rapid research and\\nbreakthroughs, end-to-end neural machine trans-\\nlation has gained remarkable performances (Shi\\net al., 2021; Bahdanau et al., 2014) and have be-\\ncome mainstream approach to MT.\\n2 Related Work\\nEarly problem of NMT was often the poor trans-\\nlation for long sentences (Sutskever et al., 2014)\\nwhich can be attributed to the ﬁxed-length of\\nsource encoding in conventional encoder-decoder\\nas suggested by Cho et al. (2014a) for which the\\nconcept of attention to NMT was introduced by\\nBahdanau et al. (2014) to avoid keeping a ﬁxed\\nsource side representation.\\nAs compared to separately tuned components in\\nSMT, newly emerging Neural Machine translation\\nradically departures from previous machine learn-\\ning approaches as the training of NMT is end-to-\\nend which has signiﬁcantly improved translation\\nquality across 30 different languages (Junczys-\\nDowmunt et al., 2016). NMT model can be attrac-\\ntive for various reason one being scalability issue,\\nwhether it be memory requirements or computa-\\ntional speed. Another being able to train all the\\ncharacter embedding as each characters frequently\\noccurs in the training corpus.\\nMost neural machine translation models pro-\\nposed use encoder-decoder where a neural net-\\nwork reads and encodes a source sentence into\\na ﬁxed-length vector and a decoder then outputs\\na translation from the encoded vector, where in\\nmost of the cases the encoder and decoder are\\nmainly implemented as RNNs, CNNs or self-\\nattention network (Wu et al., 2018). The whole\\nencoder–decoder system, which consists of the\\nencoder and the decoder for a language pair, is', path=None, url=None, mimetype=None), image_resource=None, audio_resource=None, video_resource=None, text_template='{metadata_str}\\n\\n{content}'), Document(id_='0f5a9e76-4a52-4824-89a7-0b0785a1e599', embedding=None, metadata={'page_label': '3', 'file_name': 'MachineTranslationwithAttention.pdf', 'file_path': '/content/data/MachineTranslationwithAttention.pdf', 'file_type': 'application/pdf', 'file_size': 482135, 'creation_date': '2025-02-03', 'last_modified_date': '2025-02-03'}, excluded_embed_metadata_keys=['file_name', 'file_type', 'file_size', 'creation_date', 'last_modified_date', 'last_accessed_date'], excluded_llm_metadata_keys=['file_name', 'file_type', 'file_size', 'creation_date', 'last_modified_date', 'last_accessed_date'], relationships={}, metadata_template='{key}: {value}', metadata_separator='\\n', text_resource=MediaResource(embeddings=None, data=None, text='jointly trained to maximize the probability of a\\ncorrect translation given a source sentence (Bah-\\ndanau et al., 2014). After the initial proposal by\\n(Sutskever et al., 2014; Bahdanau et al., 2014),\\nmuch work has been done on the sequence-to-\\nsequence neural machine translation model rang-\\ning from new attention mechanism (Luong et al.,\\n2015) to working on the problem of out-of-\\nvocabulary words (Jean et al., 2015) for which se-\\nquential RNNs are used both for encoding source\\nsentences and generating target translation.\\nWe draw our inspiration for machine transla-\\ntion with attention from Bahdanau et al. (2014).\\nWe have chosen to base our project on this paper\\nas attention mechanism has been widely used as\\nbaseline and is thoroughly studied among the NLP\\ncommunity.\\n3 Model\\nMachine Translation is equivalent to maximizing a\\nconditional probability of a target sentence given\\nthe source sentence. In Neural Machine Trans-\\nlation, we parameterize it to maximise the condi-\\ntional probability. The approach used by Cho et al.\\n(2014b) was to encode the source sentence into\\na ﬁxed-length vector, which becomes difﬁcult to\\ncompress all the necessary information into a ﬁxed\\nlength vector, which makes it difﬁcult for the Neu-\\nral Network to handle long sentences, and thus the\\nperformance of the encoder-decoder drops as the\\nlength of the sentences increases. So we use the\\nmodel proposed by Bahdanau et al. (2014), where\\nit does not encode the input sentence into a ﬁxed-\\nlength vector, rather than it simply encodes the in-\\nput sentence into sequence of vectors, and while\\ndecoding the translation, it select subset of vectors\\nfrom the using attention mechanism. And Bah-\\ndanau et al. (2014) showed that encoder decoder\\nmodel with attention mechanism cope better with\\nlong sentences. In the next section, we will ﬁrst\\ngive a brief introduction on encoder-decoder, the\\nRNN, and one of its type, GRU, the one we used\\nin our model and ﬁnally the attention mechanism.\\n3.1 Encoder-Decoder\\nEncoder-Decoder, ﬁrst proposed by Cho et al.\\n(2014b), basically consists of 2 parts, the encoder\\nand the decoder. Encoder codes the sequence\\nof input sentence into dense vector representa-\\ntion, and then decoder takes in the encoded sen-\\ntence and decode the representation into another\\nsequences of words. They are trained to maximize\\nthe conditional probability of the output sentence,\\ngiven the input sentence.\\nRNN is necessary when we need to maintain the\\nword order in a sentence. This is not handled by\\nbags of words model or other statistical models. In\\naddition to input, xi and output ˆyi, we also have a\\nstate vector, ai, which is initialized with vectors of\\nzeros. iwould be the ith timestep In the ﬁrst layer\\nof RNN, the input and state vector is fed into the\\nrecurrent unit, the recurent unit may look like 1:\\nat = f(Waaat−1 + Waxxi),\\nand,\\nˆyt = g(Wyaat)\\nwhere, t is the time step, Waa is the weights be-\\ntween two hidden layer, Wax is the weight be-\\ntween input and hidden layer, and Wya is the\\nweight between hidden and the output layer, and\\nf can be tanhor Reluactivation function, and g\\ncan be sigmoid or softmax activation function.\\nAfter feeding the input to rnn unit, it returns a new\\nstate vector in the next time step. This new state\\nvector will be mapped to the output vector using\\nsome function. This output vector can be used as\\na prediction. The new state vector is cached and is\\npassed across the next unit of the RNN, along with\\nthe input in order for it to return the next state vec-\\ntor. This happens recursively for all the input ele-\\nments. So, when the model is reading the second\\nword, instead of just predicting output using only\\nthe second word, it also gets information from the\\nprevious time step (ﬁrst word) in terms of the state\\nvector.\\nOne of the problem of RNN is that it runs into\\nthe problem of Vaishing gradient, ﬁrst described\\nby Hochreiter (1998). This happens when we have\\na very long sentence, which tends to have long\\nterm dependencies. That means a word at the end\\nof the sentence would be semantically dependent\\non the word occurring at the beginning of the sen-\\ntence. So, the gradients during the backpropaga-\\ntion step would have a very hard time propagating\\nback to affect the words or weights of the earlier\\nunits. The gradients diminishes in the backpropa-\\ngation step and not able to reach the earlier units.\\nGenerally, RNN has local inﬂuences where a word\\nis mainly inﬂuenced by words closed to it. So that\\nmakes it difﬁcult for the output at the later unit\\n1https://www.coursera.org/learn/nlp-sequence-\\nmodels/home/welcome', path=None, url=None, mimetype=None), image_resource=None, audio_resource=None, video_resource=None, text_template='{metadata_str}\\n\\n{content}'), Document(id_='bf6b5e45-5554-4550-b9af-7fea34f3ab29', embedding=None, metadata={'page_label': '4', 'file_name': 'MachineTranslationwithAttention.pdf', 'file_path': '/content/data/MachineTranslationwithAttention.pdf', 'file_type': 'application/pdf', 'file_size': 482135, 'creation_date': '2025-02-03', 'last_modified_date': '2025-02-03'}, excluded_embed_metadata_keys=['file_name', 'file_type', 'file_size', 'creation_date', 'last_modified_date', 'last_accessed_date'], excluded_llm_metadata_keys=['file_name', 'file_type', 'file_size', 'creation_date', 'last_modified_date', 'last_accessed_date'], relationships={}, metadata_template='{key}: {value}', metadata_separator='\\n', text_resource=MediaResource(embeddings=None, data=None, text='Figure 1: The left diagram represents Long Short Term Memory Unit, with ias an Input gate, oas an\\nOutput Gate, and f as a Forget Gate. The right diagram represents Gated Recurrent Unit, withras Reset\\nGate, and zas an Update Gate. (Chung et al., 2014)\\nto be strongly inﬂuenced by a word that was very\\nearly in the sequence.\\nBut we can further improve the training by us-\\ning other RNN units, like GRU (Chung et al.,\\n2014) or LSTM (Hochreiter and Schmidhuber,\\n1997), which are better at capturing long-range de-\\npendencies. The state vector in simple RNN can\\nbe considered as a memory, where the memory ac-\\ncess was not controlled. At each step, the entire\\nmemory state was read and updated. But in GRU\\nand LSTM, we use a gating mechanism to control\\nthe memory. Since, we used GRU in our model,\\nso we will only describe GRU here.\\nIn GRU, (Chung et al., 2014; Rana, 2016), the\\nactivation hj\\nt is a linear interpolation between the\\nprevious activation hj\\nt−1 and the candidate ativa-\\ntion ˜hj\\nt :\\nhj\\nt = (1−zj\\nt )hj\\nt−1 + zj\\nt ˜hj\\nt\\nwhere, zj\\nt is the update gate, that decides how\\nmuch GRU units updates its activation [See Fig.\\n1]. The update gate is given by :\\nzj\\nt = σ(Wzxt + Uzht−1)j.\\nAnd the candidate activation ˆhj\\nt is computed by :\\nˆhj\\nt = tanh(Wxt + U(rt ⊙ht−1))j,\\nwhere ⊙denotes element-wise multiplication and\\nrj\\nt are reset gates. When a reset gate at speciﬁc\\ntime, t is set to 0, i.e. rj\\nt == 0, which makes the\\nGRU to forget the past, i.e. forget the previous\\nstate vectors. This is considered same as reading\\nthe ﬁrst word of the input sentence. And ﬁnally,\\nwe can compute the reset gate by :\\nrj\\nt = σ(Wrxt + Urht−1)j.\\nOne of the weakness of RNN is that it only uses\\ninformation that is earlier in the sequence to make\\npredictions but not the information which are later\\nin the sequence. When predicting the output at\\ntime step i, it does not use the word at time step i+1\\nor i+2 or any other words in the later time step. So,\\nit would be useful to know not just the information\\nfrom the words from the previous time step but\\nalso the information from the later time steps.\\nSo, we use Bidirectional RNN, ﬁrst proposed\\nby (Schuster and Paliwal, 1997). From a point\\nin time, it takes information from both the ear-\\nlier and later time step in the sequence. The\\nFirst RNN, which we called forward RNN, − →f is\\nfed the input sequence as it is. And the second\\nRNN, which is also called backward RNN, ← −f\\nis fed the input sequence in reverse order. This\\ngives two separate state vectors – a forward state\\nvector, − →hT\\nj , and a backward state vector ← −hT\\nj .\\n− →hT\\nj would be a sequence of forward hidden state\\nvectors, (− →h1,..., − →hTx ), and similarly, backward\\nstate vector ← −hT\\nj would be a sequence of backward\\nhidden state vector, (← −h1,..., ← −hTx ). And the out-\\nput at a speciﬁc timestep is accounted by the con-\\ncatenation of output of two RNN’s, concatenating− →hj and ← −hj, i.e. hj = [− →hT\\nj ,← −hT\\nj ]. So, when pre-\\ndicting the output at a speciﬁc time step, it will', path=None, url=None, mimetype=None), image_resource=None, audio_resource=None, video_resource=None, text_template='{metadata_str}\\n\\n{content}'), Document(id_='6264b183-1d11-40a6-bfe7-0aa0e1f6082a', embedding=None, metadata={'page_label': '5', 'file_name': 'MachineTranslationwithAttention.pdf', 'file_path': '/content/data/MachineTranslationwithAttention.pdf', 'file_type': 'application/pdf', 'file_size': 482135, 'creation_date': '2025-02-03', 'last_modified_date': '2025-02-03'}, excluded_embed_metadata_keys=['file_name', 'file_type', 'file_size', 'creation_date', 'last_modified_date', 'last_accessed_date'], excluded_llm_metadata_keys=['file_name', 'file_type', 'file_size', 'creation_date', 'last_modified_date', 'last_accessed_date'], relationships={}, metadata_template='{key}: {value}', metadata_separator='\\n', text_resource=MediaResource(embeddings=None, data=None, text='Figure 2: Attention Model (Luong et al., 2015)\\nuse the information from the past, present as well\\nas from the future. We need the entire sequence of\\ndata before we can make any predictions.\\nThe architecture that we are proposing here is\\nbased on the Encoder-Decoder Framework. The\\nencoder takes in the input sentence and converts\\nthem into a vector representation\\nThe encoder can be an RNN (Cho et al., 2014b)\\nor LSTM unit (Sutskever et al., 2014). They pro-\\ncesses the input sentence, pass it through RNN or\\nLSTM, and when it encounters the end of sen-\\ntence, then the hidden state, that captured all the\\nrelevant information passes it to the decoder. Then\\nthis information is used to predict the translations\\nin the decoder, which can be RNN or LSTM, until\\nit predicts the end of the sentence token. The hid-\\nden state needs to remember every word from the\\ninput sentence. So that is why this model tends to\\nwork for short sentences and not long sentences.\\nEven though if we used LSTM or GRU, which\\ntends to remember the words that occured very\\nearly in the sequence, it will still not be able to\\nlearn the alignment between the source word and\\nthe target word. They often forget the initial part\\nof the sentence once they are processed in the en-\\ncoder. That is why we use an alignment mecha-\\nnism called attention. They help to memorize this\\ninformation for longer sentences. But we need to\\nlearn this alignment. It can vary from language to\\nlanguage.\\n3.2 Attention\\nIn this section, we will speciﬁcally deﬁne the\\nalignment mechanism, [See Figure 2] that we used\\nin our model. In RNN Encoder-Decoder model\\n(Sutskever et al., 2014), we faced with the bottle-\\nneck problem, where the complete sequence of in-\\nformation of the source sentence, must be captured\\nby one single vector, i.e. the last hidden unit of the\\nencoder RNN is used as a context vector for the\\ndecoder, which becomes difﬁcult for the decoder\\nto summarise large input sequence at once. This\\nalso poses a problem where the encoder is not able\\nto memorize the words coming at the beginning\\nof the sentences, which leads to poor translation\\nof the source sentence. The Attention mechanism\\njust addresses this issue, by retaining and utilising\\nall the hidden state of the input sentence during the\\ndecoding phase.\\nDuring the decoding phase, the model creates\\nan alignment between each time step of the de-\\ncoder output and all of the encoder hidden state.\\nWe need to learn this alignment. Each output of\\nthe decoder can selectively pick out speciﬁc ele-\\nments from the sequence to produce the output.\\nSo, this allows the model to focus and pay more\\n”Attention” to the relevant part of the input se-\\nquence.\\nThe ﬁrst attention model was proposed by Bah-\\ndanau et al. (2014), there are several other types of\\nattention proposed, such as the one by Luong et al.', path=None, url=None, mimetype=None), image_resource=None, audio_resource=None, video_resource=None, text_template='{metadata_str}\\n\\n{content}'), Document(id_='ef0469ae-8643-4dcb-81ec-976ddf099f11', embedding=None, metadata={'page_label': '6', 'file_name': 'MachineTranslationwithAttention.pdf', 'file_path': '/content/data/MachineTranslationwithAttention.pdf', 'file_type': 'application/pdf', 'file_size': 482135, 'creation_date': '2025-02-03', 'last_modified_date': '2025-02-03'}, excluded_embed_metadata_keys=['file_name', 'file_type', 'file_size', 'creation_date', 'last_modified_date', 'last_accessed_date'], excluded_llm_metadata_keys=['file_name', 'file_type', 'file_size', 'creation_date', 'last_modified_date', 'last_accessed_date'], relationships={}, metadata_template='{key}: {value}', metadata_separator='\\n', text_resource=MediaResource(embeddings=None, data=None, text='Spanish en la estrategia 2020 , reconocimos el hecho de que , si queremos mantener nuestro\\nnivel de prosperidad en europa , tenemos que aumentar nuestra productividad .\\nEnglish in the 2020 strategy , we acknowledged the fact that , if we are to maintain our level\\nof prosperity in europe , we need to increase our productivity .\\nSpanish sin embargo , es algo que debemos hacer si queremos demostrar a los estados unidos\\nque nos deben considerar como un socio serio en la alianza contra el terrorismo .\\nEnglish yet do it we must , if we are to demonstrate to the usa that we are to be taken\\nseriously as a partner in an alliance against terrorism .\\nSpanish sabr´an ustedes que fue tambi´en a instancias de esta c´amara que la comisi´on entabl´o\\nnegociaciones , y estas han dado un resultado encomiable .\\nEnglish you will be aware that it was not least at the insistence of this house that the com-\\nmission entered into negotiations , and these have produced a creditable result .\\nTable 1: Examples of Spanish and English sentences from the dataset\\n(2015).\\nWe will only discuss the attention model, pro-\\nposed by Bahdanau et al. (2014). After the in-\\nput sequence is passed through the encoder, it pro-\\nduces hidden state for each of the elements in the\\nsequence (h1,...,h Tx ). Then we multiply the de-\\ncoders hidden state at time step t (s1,...,s Ty ),\\nwith all of the encoders hidden state, which gives\\nus the alignment score of each of the encoder out-\\nput with respect to the decoder input and hidden\\nstate at that time step:\\net = [sT\\nt h1,...,s T\\nt hTx ]\\nThe alignment score quantiﬁes the amount of\\nAttention the decoder will place on each of the en-\\ncoder outputs when producing the next output, so\\ninstead of looking at the entire sequence, it just\\nconcentrate on few relevant parts of the sequence\\nwhen predicting the next word.\\nAfter calculating the alignment score, we pass\\nthe vector et through the softmax layer, to calcu-\\nlate the probability distribution.\\nαt = softmax(et)\\nThen we multiply each of the attention weights\\nwith each of the encoder hidden state, to get con-\\ntext vector, at\\nat =\\nTx∑\\ni=1\\nαt\\nihi\\nIf the attention score of speciﬁc element of the\\ninput sequence is close to 1, then its inﬂuence on\\nthe decoder output at that speciﬁc time step in-\\ncreases. And then ﬁnally, the context vector at\\nproduced will be concatenated with the decoder\\nhidden state, st, i.e.\\n˜ht = [at,st]\\nand is fed into decoder RNN, which produces new\\nhidden state.\\n4 Data\\nWe used a Parallel Corpus for English-Spanish\\nlanguage, which was extracted from the proceed-\\nings of the European Parliament, also called Eu-\\nroparl dataset (Koehn, 2005). It contains 1.96\\nMillion sentences, each for English and Spanish.\\nMost common words and count for both languages\\nare shown below:\\nWords Count\\nde 1799827\\n, 1456229\\nla 1222089\\nque 992176\\n. 867284\\nen 790382\\nel 696521\\ny 692640\\na 577052\\nlos 548495\\nTable 2: Spanish\\nWords Count\\nthe 1956558\\n, 1371506\\nof 932044\\nto 875415\\n. 864674\\nand 747108\\nin 622426\\nthat 476250\\na 430093\\nis 401782\\nTable 3: English\\nFirst we ﬁlter out all the sentences having words\\ngreater than 50. Then we sort these sentences\\nbased on the number of words in each of the sen-\\ntences, so that we have less padded sentences in\\nour initial indices and sentences with high padding\\nto be at the end of our indices, following with', path=None, url=None, mimetype=None), image_resource=None, audio_resource=None, video_resource=None, text_template='{metadata_str}\\n\\n{content}'), Document(id_='c72b5415-289a-40c3-b732-68d8c7479530', embedding=None, metadata={'page_label': '7', 'file_name': 'MachineTranslationwithAttention.pdf', 'file_path': '/content/data/MachineTranslationwithAttention.pdf', 'file_type': 'application/pdf', 'file_size': 482135, 'creation_date': '2025-02-03', 'last_modified_date': '2025-02-03'}, excluded_embed_metadata_keys=['file_name', 'file_type', 'file_size', 'creation_date', 'last_modified_date', 'last_accessed_date'], excluded_llm_metadata_keys=['file_name', 'file_type', 'file_size', 'creation_date', 'last_modified_date', 'last_accessed_date'], relationships={}, metadata_template='{key}: {value}', metadata_separator='\\n', text_resource=MediaResource(embeddings=None, data=None, text='usual tokenization methods. Only preprocessing\\nwe used was to lower case the words.\\nWe selected 1 million sentences for the model-\\ning due to the hardware constraints. We split the\\ndataset into usual format, i.e. train, test and vali-\\ndation. We used 900K sentences for our training,\\n80K for validation and remaining 20K sentences\\nfor the test set, which was not seen by the model\\nduring training. We did not limit the vocabulary\\nsize to any hard coded number, i.e. to get top N\\nmost frequent words. The vocabulary size we got\\nfrom English sentences was 36838 and for Span-\\nish was 63220. Only token we added was End of\\nSentence and Start of Sentence Tokens. We used\\nSpanish as a source sentence and English as a tar-\\nget sentence. See Table 1.\\n5 Experiments\\nThe encoder and decoder of our model have 256\\nhidden units each. The encoder consist of for-\\nward and backward gated recurrent unit (GRU)\\neach having 256 hidden units. The decoder has\\na single forward gated recurrent unit (GRU), with\\n256 hidden dimensions, unlike 1000 hidden units,\\nas in Bahdanau et al. (2014) due to the hardware\\nlimitations. And we only trained the model for\\nSpanish to English translation.\\nWe used Adam optimizer to train the model, and\\ngradient update is computed with a batch size of\\n32 sentences.\\nWe initialized our weights with xavier (Glo-\\nrot) initializations, (Glorot and Bengio, 2010) with\\nUniform Distribution, U[−a,a], where\\na=\\n√\\n6\\nnin + nout\\nwhere nin is the number of input neurons in the\\nweight tensor, and nout is the number of output\\nneurons in the weight tensor.\\nThe total number of trainable parameters were\\n43,564,519. We trained the model for roughly 20\\nhours. After our model was trained, we use greedy\\nsearch to predict the translation for the given input\\nsentence, that maximizes the conditional proba-\\nbility instead of using beam search as mentioned\\nin the paper Bahdanau et al. (2014) due to our\\nunfamiliarity and technical difﬁculty dealing with\\nBeam search.\\nWe, then used BLEU (Papineni et al., 2002)\\nscore to evaluate how the model was working on\\nthe test data.\\n6 Results\\n6.1 Quantitative Results\\nWe trained our model on maximum length of 50\\nsentences, so any length smaller than or equal to\\n50 is used for the training, We trained our model\\nuntil the error on the validation data or the devel-\\nopment data stops decreasing, in order to avoid\\nthe problem of overﬁtting. We achieved a BLUE\\nscore of 25.76 on the test data and the error rate for\\nSpanish to English translation was 4.267 on our\\ntest data. According to Bahdanau et al. (2014), we\\ncan say that our model out perform the encoder\\ndecoder model, proposed by Cho et al. (2014b),\\nfor 50 sentences, where they got BLEU score of\\n17.82. Their performance drops when the length\\nof the sentence is increased (Cho et al., 2014b).\\nSo, the limitation of using ﬁxed length vector\\nin simple encoder decoder model in Cho et al.\\n(2014b) work was the reason that it was under per-\\nforming with long sentences.\\nThis was our motivation to use the proposed ap-\\nproach by Bahdanau et al. (2014), where the per-\\nformance of the encoder-decoder with attention\\nshows no deterioration with sentence of length\\ngreater than 50 sentences. The result that we\\ngot which was 25.76 was quite close to the Bah-\\ndanau et al. (2014), where they got BLEU score of\\n26.75,training with 1000 encoder and decoder di-\\nmensions, and training on corpus of 384M words.\\nThey were also able to achieve BLEU score of\\n28.45 when trained the data until the performance\\nof the validation stopped improving.\\n6.2 Qualitative Results\\nThe model proposed by Bahdanau et al. (2014)\\nprovides a way to investigate the soft alignment\\nbetween the translated sentence from the model\\nand the input sentence. The matrix given in Fig\\n3, each of the cells represent the weights αij of\\nthe annotation of the j-th source word for the i-\\nth target word. This helps in visualizing and see\\nwhich word from the input sentence were con-\\nsidered more important for generating the target\\nword.\\nWe see that majority of the weights are con-\\ncentrated on the diagonal matrix, along with non-\\nmonotonic alignments. The non-monotonic align-\\nments would be high for long sentences, since the\\nwords in long target sentence tends to have depen-\\ndence on more than one word in source sentence.', path=None, url=None, mimetype=None), image_resource=None, audio_resource=None, video_resource=None, text_template='{metadata_str}\\n\\n{content}'), Document(id_='94fd195a-411a-4e25-9caf-cf16c6c87656', embedding=None, metadata={'page_label': '8', 'file_name': 'MachineTranslationwithAttention.pdf', 'file_path': '/content/data/MachineTranslationwithAttention.pdf', 'file_type': 'application/pdf', 'file_size': 482135, 'creation_date': '2025-02-03', 'last_modified_date': '2025-02-03'}, excluded_embed_metadata_keys=['file_name', 'file_type', 'file_size', 'creation_date', 'last_modified_date', 'last_accessed_date'], excluded_llm_metadata_keys=['file_name', 'file_type', 'file_size', 'creation_date', 'last_modified_date', 'last_accessed_date'], relationships={}, metadata_template='{key}: {value}', metadata_separator='\\n', text_resource=MediaResource(embeddings=None, data=None, text='(a)\\n (b)\\n(c)\\n (d)\\nFigure 3: Alignments translated from Spanish to English by our model. The row represents the translated\\nsentence, English and the column represents the source sentence, Spanish. Each of the cells of the matrix\\nrepresents weights, αij, of the annotation of the j-th source word for the i-th translated word. (1:White,\\n0:Black)', path=None, url=None, mimetype=None), image_resource=None, audio_resource=None, video_resource=None, text_template='{metadata_str}\\n\\n{content}'), Document(id_='7f3f3df2-4d7e-471e-a328-8240171f374f', embedding=None, metadata={'page_label': '9', 'file_name': 'MachineTranslationwithAttention.pdf', 'file_path': '/content/data/MachineTranslationwithAttention.pdf', 'file_type': 'application/pdf', 'file_size': 482135, 'creation_date': '2025-02-03', 'last_modified_date': '2025-02-03'}, excluded_embed_metadata_keys=['file_name', 'file_type', 'file_size', 'creation_date', 'last_modified_date', 'last_accessed_date'], excluded_llm_metadata_keys=['file_name', 'file_type', 'file_size', 'creation_date', 'last_modified_date', 'last_accessed_date'], relationships={}, metadata_template='{key}: {value}', metadata_separator='\\n', text_resource=MediaResource(embeddings=None, data=None, text='Let us take an example from the test set, con-\\nsider the source sentence:\\nson los estados miembros de la zona del\\neuro los que no han cumplido , en espe-\\ncialla republica federal de alemania que\\nse niega a mantener su promesa.\\nAnd its translation by our model is :\\nthat it is the member states of the euro\\narea which have not complied honour,\\nparticularly the federal republic of ger-\\nmany that refuses to keep their promise\\nto sustain their promise.\\nAnd the reference is:\\nit is the member states of the euro area\\nthat have not delivered - and particu-\\nlarly the federal republic of germany,\\nwhich is refusing to keep its promise.\\nWe can observe from our translated sentence,\\nthe model generates ”have not complied ”, instead\\nof ”have not delivered”(from reference sentence),\\nwhich has the same meaning. It tries to preserve\\nthe meaning of the whole sentence, and it does not\\nblindly takes the word from the reference, it tries\\nto generalize.\\nRefer to Table 4 at the end of the paper for\\nmore translations from Spanish to English using\\nEncoder Decoder model with Attention Mecha-\\nnism.\\n7 Discussion\\nAfter trying to achieve the result similar to what\\nwas presented in the paper, we are satisﬁed with\\nour result though there is much that can be im-\\nproved. Limitation caused by the hardware held\\nus back from achieving better results. We used the\\nserver provided by the university and as a backup\\nused google colab for our work, so we had to be\\nwary of the maintenance schedule happening in\\nthe server and the limitation of 24 hrs of work-\\ntime on google colab, which otherwise could in-\\nterrupt while we were training our model. So,\\nto overcome these challenges we decided to use\\n1M sentences from each form Spanish and English\\ndataset, and reduce the parameters for encoder-\\ndecoder.\\nWe also faced problem with length of the vo-\\ncabulary size of English and Spanish sentences,\\nwhere the vocabulary size of the English sen-\\ntence were the output dimension, and vocabulary\\nsize of Spanish sentence were input dimensions of\\nour model. This leads to increase in number of\\ntrainable parameters, the decoding complexity in-\\ncreases with number of target words (vocabulary\\nsize of the English), where this problem has been\\naddressed by Jean et al. (2015).\\n8 Conclusion\\nThe approach proposed by Cho et al. (2014b) was\\nto encode the whole sentence into ﬁxed length vec-\\ntor, and this becomes problematic when dealing\\nwith long sentences. We extend this basic encoder-\\ndecoder model by an Attention mechanism (Bah-\\ndanau et al., 2014), where the model searches for\\nthe input word computed from the encoder, which\\nbest align with the target word, when generat-\\ning each target word. This frees the model from\\nhaving to encode the source sentence into a ﬁxed\\nlength vector, only rely on the information rele-\\nvant for generating each target word. We com-\\npared our model for Spanish to English translation\\nwith both of these approaches, and found that our\\nmodel works better than the encoder-decoder ap-\\nproach (Cho et al., 2014b), and have slightly lower\\nresults than the architecture with Attention mech-\\nanism, (Bahdanau et al., 2014). We also observed\\nthat the model tries to align the target word with\\nthe relevant word from the translated sentence.\\nIn the future work, there are several things we\\ncan try. We can train our model on much larger\\ndataset, with a better hardware and with differ-\\nent attention models. We can also focus on how\\nto handle the stop words, punctuation, as we can\\nsee on Table 2 and Table 3, which accounts for\\nthe highest word count, and also to handle the un-\\nknown words, which does not appear in the train-\\ning data, but in the test data.\\nReferences\\nDzmitry Bahdanau, Kyunghyun Cho, and Yoshua\\nBengio. Neural machine translation by jointly\\nlearning to align and translate. arXiv preprint\\narXiv:1409.0473, 2014.\\nKyunghyun Cho, B. V . Merrienboer, Dzmitry\\nBahdanau, and Yoshua Bengio. On the\\nproperties of neural machine translation: En-\\ncoder–decoder approaches. In SSST@EMNLP,\\n2014a.\\nKyunghyun Cho, B. V . Merrienboer, C ¸ aglar\\nG¨ulc ¸ehre, Dzmitry Bahdanau, Fethi Bougares,', path=None, url=None, mimetype=None), image_resource=None, audio_resource=None, video_resource=None, text_template='{metadata_str}\\n\\n{content}'), Document(id_='a45a7469-6804-40ec-97a8-0d2b47f64ec7', embedding=None, metadata={'page_label': '10', 'file_name': 'MachineTranslationwithAttention.pdf', 'file_path': '/content/data/MachineTranslationwithAttention.pdf', 'file_type': 'application/pdf', 'file_size': 482135, 'creation_date': '2025-02-03', 'last_modified_date': '2025-02-03'}, excluded_embed_metadata_keys=['file_name', 'file_type', 'file_size', 'creation_date', 'last_modified_date', 'last_accessed_date'], excluded_llm_metadata_keys=['file_name', 'file_type', 'file_size', 'creation_date', 'last_modified_date', 'last_accessed_date'], relationships={}, metadata_template='{key}: {value}', metadata_separator='\\n', text_resource=MediaResource(embeddings=None, data=None, text='Holger Schwenk, and Yoshua Bengio. Learn-\\ning phrase representations using rnn en-\\ncoder–decoder for statistical machine transla-\\ntion. In EMNLP, 2014b.\\nJ. Chung, C ¸ aglar G¨ulc ¸ehre, Kyunghyun Cho, and\\nYoshua Bengio. Empirical evaluation of gated\\nrecurrent neural networks on sequence model-\\ning. ArXiv, abs/1412.3555, 2014.\\nXavier Glorot and Yoshua Bengio. Understanding\\nthe difﬁculty of training deep feedforward neu-\\nral networks. In AISTATS, 2010.\\nS. Hochreiter. The vanishing gradient problem\\nduring learning recurrent neural nets and prob-\\nlem solutions. Int. J. Uncertain. Fuzziness\\nKnowl. Based Syst., 6:107–116, 1998.\\nS. Hochreiter and J. Schmidhuber. Long short-\\nterm memory. Neural Computation, 9:1735–\\n1780, 1997.\\nS´ebastien Jean, Kyunghyun Cho, R. Memisevic,\\nand Yoshua Bengio. On using very large tar-\\nget vocabulary for neural machine translation.\\nArXiv, abs/1412.2007, 2015.\\nMarcin Junczys-Dowmunt, Tomasz Dwojak, and\\nHieu Hoang. Is neural machine translation\\nready for deployment? a case study on 30 trans-\\nlation directions. 01 2016.\\nPhilipp Koehn. Europarl: A parallel corpus for\\nstatistical machine translation. In MTSUMMIT,\\n2005.\\nPhilipp Koehn, Franz Josef Och, and Daniel\\nMarcu. Statistical phrase-based translation.\\nIn Proceedings of the 2003 Conference of the\\nNorth American Chapter of the Association\\nfor Computational Linguistics on Human Lan-\\nguage Technology - Volume 1, NAACL ’03,\\npage 48–54, USA, 2003. Association for Com-\\nputational Linguistics. doi: 10.3115/1073445.\\n1073462. URL https://doi.org/10.\\n3115/1073445.1073462.\\nThang Luong, Hieu Pham, and Christopher D.\\nManning. Effective approaches to attention-\\nbased neural machine translation. In EMNLP,\\n2015.\\nKishore Papineni, S. Roukos, T. Ward, and Wei-\\nJing Zhu. Bleu: a method for automatic evalua-\\ntion of machine translation. In ACL, 2002.\\nR. Rana. Gated recurrent unit (gru) for emo-\\ntion classiﬁcation from noisy speech. ArXiv,\\nabs/1612.07778, 2016.\\nM. Schuster and K. Paliwal. Bidirectional recur-\\nrent neural networks. IEEE Trans. Signal Pro-\\ncess., 45:2673–2681, 1997.\\nXuewen Shi, Heyan Huang, Ping Jian, and Yi-Kun\\nTang. Improving neural machine translation\\nwith sentence alignment learning. Neurocom-\\nputing, 420:15–26, 2021. ISSN 0925-2312. doi:\\nhttps://doi.org/10.1016/j.neucom.2020.05.104.\\nIlya Sutskever, Oriol Vinyals, and Quoc V . Le.\\nSequence to sequence learning with neural net-\\nworks. In NIPS, 2014.\\nShuangzhi Wu, Dongdong Zhang, Zhirui Zhang,\\nNan Yang, Mu Li, and M. Zhou. Dependency-\\nto-dependency neural machine translation.\\nIEEE/ACM Transactions on Audio, Speech, and\\nLanguage Processing, 26:2132–2141, 2018.', path=None, url=None, mimetype=None), image_resource=None, audio_resource=None, video_resource=None, text_template='{metadata_str}\\n\\n{content}'), Document(id_='a7fae4a8-f1bd-4fb7-85de-3c97c5ab7939', embedding=None, metadata={'page_label': '11', 'file_name': 'MachineTranslationwithAttention.pdf', 'file_path': '/content/data/MachineTranslationwithAttention.pdf', 'file_type': 'application/pdf', 'file_size': 482135, 'creation_date': '2025-02-03', 'last_modified_date': '2025-02-03'}, excluded_embed_metadata_keys=['file_name', 'file_type', 'file_size', 'creation_date', 'last_modified_date', 'last_accessed_date'], excluded_llm_metadata_keys=['file_name', 'file_type', 'file_size', 'creation_date', 'last_modified_date', 'last_accessed_date'], relationships={}, metadata_template='{key}: {value}', metadata_separator='\\n', text_resource=MediaResource(embeddings=None, data=None, text='Source se˜nor presidente , se ˜nor presidente en ejercicio del consejo , se ˜nor presidente de la\\ncomisi´on , se˜nor´ıas , me gustar´ıa hacer tres breves comentarios .\\nReference mr president , mr president - in - ofﬁce of the council , mr president of the com-\\nmission , ladies and gentlemen , i would just like to make three brief comments\\n.\\nOur Model president mr president , mr president - in - ofﬁce of the council , mr president of\\nthe commission , ladies and gentlemen , i would like to make three brief comments\\nbrief comments .\\nGoogle Translate Mr. Chairman, Mr. Chairman-in-Ofﬁce of the Council, Mr. Chairman of the Com-\\nmittee, ladies and gentlemen, I would like to make three brief comments.\\nSource como los estados miembros , la comisi ´on procura promover el estado de derecho ,\\nsin el cual los derechos humanos no obtendr ´an reconocimiento en ning´un territorio\\n.\\nReference the commission is involved , as are member states , in the promotion of the rule of\\nlaw , without which human rights can not operate in any territory .\\nOur Model that as the member states , the commission intends to promote the rule of law ,\\nwithout human rights will not not be any recognition in any territory in any territory\\n.\\nGoogle Translate Like the member states, the commission seeks to promote the rule of law, without\\nwhich human rights will not be recognized in any territory.\\nSource por escrito . - he votado a favor del informe de la se ˜nora fraga , que permite a\\ngroenlandia exportar productos pesqueros a la ue a pesar de no ser miembro .\\nReference in writing . - i voted in favour of ms fraga ’s report , which allows greenland to\\nexport ﬁshery products to the eu despite not being a member .\\nOur Model in writing . - i voted in favour of mrs fraga est´evez ’s report , which allows greenland\\nexport export to export to the eu despite despite not being member .\\nGoogle Translate written . - i voted in favor of the report by mrs fraga, which allows greenland to\\nexport ﬁshery products to the eu despite not being a member.\\nSource ( pl ) se ˜nor presidente , me gustar ´ıa una vez m´as manifestar mi satisfacci ´on por la\\nimportancia que la comunidad conﬁere a la necesidad de innovaci´on en europa .\\nReference ( pl ) mr president , i would like once again to express my pleasure at the importance\\nthat the community attaches to the need for innovation in europe .\\nOur Model that ( pl ) mr president , i would once again like to express my satisfaction satis-\\nfaction that the community attaches to the community to the need for innovation in\\neurope .\\nGoogle Translate (pl) mr president, i would like once again to express my satisfaction with the impor-\\ntance that the community attaches to the need for innovation in europe.\\nSource son los estados miembros de la zona del euro los que no han cumplido , en especial\\nla rep´ublica federal de alemania que se niega a mantener su promesa .\\nReference it is the member states of the euro area that have not delivered - and particularly the\\nfederal republic of germany , which is refusing to keep its promise .\\nOur Model that it is the member states of the euro area which have not complied honour ,\\nparticularly the federal republic of germany that refuses to keep their promise to\\nsustain their promise .\\nGoogle Translate it is the eurozone member states that have not delivered, especially the federal re-\\npublic of germany which refuses to keep its promise.\\nTable 4: Source and Reference form the test data, with translated sentence from our model along with\\nGoogle translation (as of 16 August 2021)\\nView publication stats', path=None, url=None, mimetype=None), image_resource=None, audio_resource=None, video_resource=None, text_template='{metadata_str}\\n\\n{content}')]\n"
          ]
        }
      ]
    },
    {
      "cell_type": "code",
      "source": [
        "\n",
        "\n",
        "# setup prompts - specific to StableLM\n",
        "from llama_index.core import PromptTemplate\n",
        "\n",
        "system_prompt = \"\"\"<|SYSTEM|># You are a Q&A assistant. Your goal is to answer questions as\n",
        "accurately as possible based on the instructions and context provided.\n",
        "\"\"\"\n",
        "\n",
        "# This will wrap the default prompts that are internal to llama-index\n",
        "query_wrapper_prompt = PromptTemplate(\"<|USER|>{query_str}<|ASSISTANT|>\")"
      ],
      "metadata": {
        "id": "Pd285TqI63a3"
      },
      "execution_count": 7,
      "outputs": []
    },
    {
      "cell_type": "code",
      "source": [
        "import torch\n",
        "\n",
        "llm = HuggingFaceLLM(\n",
        "    model_name=\"TinyLlama/TinyLlama-1.1B-Chat-v1.0\",\n",
        "    tokenizer_name=\"TinyLlama/TinyLlama-1.1B-Chat-v1.0\",\n",
        "    context_window=4096,\n",
        "    max_new_tokens=256,\n",
        "    generate_kwargs={\"do_sample\": True},\n",
        "    system_prompt=system_prompt,\n",
        "    query_wrapper_prompt=query_wrapper_prompt,\n",
        "    device_map=\"auto\",\n",
        "    stopping_ids=[50278, 50279, 50277, 1, 0],\n",
        "    tokenizer_kwargs={\"max_length\": 4096},\n",
        "    # uncomment this if using CUDA to reduce memory usage\n",
        "    model_kwargs={\"torch_dtype\": torch.float16}\n",
        ")\n",
        "\n",
        "Settings.llm = llm\n",
        "Settings.chunk_size = 1024"
      ],
      "metadata": {
        "colab": {
          "base_uri": "https://localhost:8080/"
        },
        "id": "aTZeTIpein4I",
        "outputId": "f510fb1b-b4fa-4212-c121-982fcb478715"
      },
      "execution_count": 36,
      "outputs": [
        {
          "output_type": "stream",
          "name": "stderr",
          "text": [
            "WARNING:llama_index.llms.huggingface.base:Supplied context_window 4096 is greater than the model's max input size 2048. Disable this warning by setting a lower context_window.\n"
          ]
        },
        {
          "output_type": "stream",
          "name": "stdout",
          "text": [
            "Supplied context_window 4096 is greater than the model's max input size 2048. Disable this warning by setting a lower context_window.\n"
          ]
        }
      ]
    },
    {
      "cell_type": "code",
      "source": [
        "\n",
        "\n",
        "from llama_index.embeddings.huggingface import HuggingFaceEmbedding\n",
        "Settings.embed_model =HuggingFaceEmbedding(model_name=\"BAAI/bge-large-zh-v1.5\")"
      ],
      "metadata": {
        "id": "PEFbh2QDmeVf"
      },
      "execution_count": 37,
      "outputs": []
    },
    {
      "cell_type": "code",
      "source": [
        "index=VectorStoreIndex.from_documents(documents)"
      ],
      "metadata": {
        "id": "NhD0Qi_FjnW4"
      },
      "execution_count": 38,
      "outputs": []
    },
    {
      "cell_type": "code",
      "source": [
        "query_engine=index.as_query_engine()\n",
        "response=query_engine.query(\"what is attention?\")"
      ],
      "metadata": {
        "id": "oxiLiZV9lKAk"
      },
      "execution_count": 39,
      "outputs": []
    },
    {
      "cell_type": "code",
      "source": [
        "print(response)"
      ],
      "metadata": {
        "colab": {
          "base_uri": "https://localhost:8080/"
        },
        "id": "AQTO-JPilKQC",
        "outputId": "be444533-51b7-44c8-bc20-91dd1868d8a5"
      },
      "execution_count": 40,
      "outputs": [
        {
          "output_type": "stream",
          "name": "stdout",
          "text": [
            "\n",
            "The attention is a mechanism that allows a model to focus and pay more attention to relevant parts of the input sequence during the decoding phase, which can lead to better translation accuracy. When the encoder is not able to capture all the relevant information from the input sentence, the decoder can use the alignment between the encoder hidden state and dequeuing time at each steps of the decoding to predict the expected output. This method works for short sentences and long sentences.\n"
          ]
        }
      ]
    },
    {
      "cell_type": "code",
      "source": [
        "response = query_engine.query(\"What did the author do growing up?\")"
      ],
      "metadata": {
        "id": "j3bLKwiteCK-"
      },
      "execution_count": 41,
      "outputs": []
    },
    {
      "cell_type": "code",
      "source": [
        "print(response)"
      ],
      "metadata": {
        "colab": {
          "base_uri": "https://localhost:8080/"
        },
        "id": "ntiQXvVKeCNp",
        "outputId": "5ea41104-1ebb-4d34-e1de-d3666ffc1b79"
      },
      "execution_count": 42,
      "outputs": [
        {
          "output_type": "stream",
          "name": "stdout",
          "text": [
            "\n",
            "While I do not specifically remember my upbringing in a particular way, I can provide you with information about what growing up looks like based on the author's description:\n",
            "\n",
            "Given: He spent his whole childhood in the woods\n",
            "\n",
            "Answer: In his childhood, the author was most likely raised in a rural or mountainous area. This could indicate long periods of time spent outdoors, such as hiking or camping, which likely involved a variety of natural surroundings and environmental constraints. The childhood description could also reflect the author's experiences interacting with the natural world through these activities.\n"
          ]
        }
      ]
    },
    {
      "cell_type": "code",
      "source": [
        "\n",
        "query_engine.query(\"how attention is different from rnn and lstm\")"
      ],
      "metadata": {
        "colab": {
          "base_uri": "https://localhost:8080/"
        },
        "id": "AEdu5TyjeCQh",
        "outputId": "bb5d4613-d2da-4923-ab8d-fc973d039f42"
      },
      "execution_count": 43,
      "outputs": [
        {
          "output_type": "stream",
          "name": "stderr",
          "text": [
            "This is a friendly reminder - the current text generation call will exceed the model's predefined maximum length (2048). Depending on the model, you may observe exceptions, performance degradation, or nothing at all.\n"
          ]
        },
        {
          "output_type": "execute_result",
          "data": {
            "text/plain": [
              "Response(response='\\nIn natural language translation (NMT), attention is a mechanism that facilitates the learning and memorization of past words in the input sentence, leading to better translation quality. It can provide context and highlight important information, helping to preserve the meaning of the input sentence while aligning with the target language. Compared to RNNs and LSTMs, attention in NMT is not only a way of encoding information but also an attention mechanism that can be used to process information at different stages of the encoder-decoder model, which leads to better results.', source_nodes=[NodeWithScore(node=TextNode(id_='299492b5-45a7-432a-aaef-7540eb8524cc', embedding=None, metadata={'page_label': '5', 'file_name': 'MachineTranslationwithAttention.pdf', 'file_path': '/content/data/MachineTranslationwithAttention.pdf', 'file_type': 'application/pdf', 'file_size': 482135, 'creation_date': '2025-02-03', 'last_modified_date': '2025-02-03'}, excluded_embed_metadata_keys=['file_name', 'file_type', 'file_size', 'creation_date', 'last_modified_date', 'last_accessed_date'], excluded_llm_metadata_keys=['file_name', 'file_type', 'file_size', 'creation_date', 'last_modified_date', 'last_accessed_date'], relationships={<NodeRelationship.SOURCE: '1'>: RelatedNodeInfo(node_id='6264b183-1d11-40a6-bfe7-0aa0e1f6082a', node_type='4', metadata={'page_label': '5', 'file_name': 'MachineTranslationwithAttention.pdf', 'file_path': '/content/data/MachineTranslationwithAttention.pdf', 'file_type': 'application/pdf', 'file_size': 482135, 'creation_date': '2025-02-03', 'last_modified_date': '2025-02-03'}, hash='1599b9344e7fff9f96044109199eedc36e8450e05482e7192f36e82adc021872')}, metadata_template='{key}: {value}', metadata_separator='\\n', text='Figure 2: Attention Model (Luong et al., 2015)\\nuse the information from the past, present as well\\nas from the future. We need the entire sequence of\\ndata before we can make any predictions.\\nThe architecture that we are proposing here is\\nbased on the Encoder-Decoder Framework. The\\nencoder takes in the input sentence and converts\\nthem into a vector representation\\nThe encoder can be an RNN (Cho et al., 2014b)\\nor LSTM unit (Sutskever et al., 2014). They pro-\\ncesses the input sentence, pass it through RNN or\\nLSTM, and when it encounters the end of sen-\\ntence, then the hidden state, that captured all the\\nrelevant information passes it to the decoder. Then\\nthis information is used to predict the translations\\nin the decoder, which can be RNN or LSTM, until\\nit predicts the end of the sentence token. The hid-\\nden state needs to remember every word from the\\ninput sentence. So that is why this model tends to\\nwork for short sentences and not long sentences.\\nEven though if we used LSTM or GRU, which\\ntends to remember the words that occured very\\nearly in the sequence, it will still not be able to\\nlearn the alignment between the source word and\\nthe target word. They often forget the initial part\\nof the sentence once they are processed in the en-\\ncoder. That is why we use an alignment mecha-\\nnism called attention. They help to memorize this\\ninformation for longer sentences. But we need to\\nlearn this alignment. It can vary from language to\\nlanguage.\\n3.2 Attention\\nIn this section, we will speciﬁcally deﬁne the\\nalignment mechanism, [See Figure 2] that we used\\nin our model. In RNN Encoder-Decoder model\\n(Sutskever et al., 2014), we faced with the bottle-\\nneck problem, where the complete sequence of in-\\nformation of the source sentence, must be captured\\nby one single vector, i.e. the last hidden unit of the\\nencoder RNN is used as a context vector for the\\ndecoder, which becomes difﬁcult for the decoder\\nto summarise large input sequence at once. This\\nalso poses a problem where the encoder is not able\\nto memorize the words coming at the beginning\\nof the sentences, which leads to poor translation\\nof the source sentence. The Attention mechanism\\njust addresses this issue, by retaining and utilising\\nall the hidden state of the input sentence during the\\ndecoding phase.\\nDuring the decoding phase, the model creates\\nan alignment between each time step of the de-\\ncoder output and all of the encoder hidden state.\\nWe need to learn this alignment. Each output of\\nthe decoder can selectively pick out speciﬁc ele-\\nments from the sequence to produce the output.\\nSo, this allows the model to focus and pay more\\n”Attention” to the relevant part of the input se-\\nquence.\\nThe ﬁrst attention model was proposed by Bah-\\ndanau et al. (2014), there are several other types of\\nattention proposed, such as the one by Luong et al.', mimetype='text/plain', start_char_idx=0, end_char_idx=2823, metadata_seperator='\\n', text_template='{metadata_str}\\n\\n{content}'), score=0.4394304404023873), NodeWithScore(node=TextNode(id_='c07d25a5-8ff5-4ba4-bf58-16e770a225ea', embedding=None, metadata={'page_label': '2', 'file_name': 'MachineTranslationwithAttention.pdf', 'file_path': '/content/data/MachineTranslationwithAttention.pdf', 'file_type': 'application/pdf', 'file_size': 482135, 'creation_date': '2025-02-03', 'last_modified_date': '2025-02-03'}, excluded_embed_metadata_keys=['file_name', 'file_type', 'file_size', 'creation_date', 'last_modified_date', 'last_accessed_date'], excluded_llm_metadata_keys=['file_name', 'file_type', 'file_size', 'creation_date', 'last_modified_date', 'last_accessed_date'], relationships={<NodeRelationship.SOURCE: '1'>: RelatedNodeInfo(node_id='9f28187a-c416-432f-a5e3-7c0236cfc46e', node_type='4', metadata={'page_label': '2', 'file_name': 'MachineTranslationwithAttention.pdf', 'file_path': '/content/data/MachineTranslationwithAttention.pdf', 'file_type': 'application/pdf', 'file_size': 482135, 'creation_date': '2025-02-03', 'last_modified_date': '2025-02-03'}, hash='05707d69ba58625ee4c9d1c65ba332b2ec324aa2502afca73562743e29f6a95b')}, metadata_template='{key}: {value}', metadata_separator='\\n', text='Neural Machine Translation with Attention\\nMohammad Wasil Saleem\\nMatrikel-Nr.: 805779\\nUniversit¨at Potsdam\\nsaleem1@uni-potsdam.de\\nSandeep Uprety\\nMatrikel-Nr. 804982\\nUniversit¨at Potsdam\\nuprety@uni-potsdam.de\\nAbstract\\nIn recent years, the success achieved\\nthrough neural machine translation has\\nmade it mainstream in machine translation\\nsystems. In this work, encoder-decoder\\nwith attention system based on ”Neural\\nMachine Translation by Jointly Learning\\nto Align and Translate” by Bahdanau et al.\\n(2014) has been used to accomplish the\\nMachine Translation between English and\\nSpanish Language which has not seen\\nmuch research work done as compared\\nto other languages such as German and\\nFrench. We aim to demonstrate the re-\\nsults similar to the breakthrough paper on\\nwhich our work is based on. We achieved\\na BLEU score of 25.37, which was close\\nenough to what Bahdanau et al. (2014)\\nachieved in their work.\\n1 Introduction\\nMachine Translation (MT) is the task of translat-\\ning text without human assistance while preserv-\\ning the meaning of input text. The early approach\\nto machine translation relied heavily on hand-\\ncrafted translation rules and linguistic knowledge.\\nStarted in early around 1950s, unlike rule-based\\nmachine translation, Statistical machine transla-\\ntion (SMT) generated translations based on statis-\\ntical models whose parameters are derived from\\nthe analysis of bilingual text corpora (Koehn et al.,\\n2003). Though reliable, for SMT, it can be hard\\nto ﬁnd content for obscure languages and is less\\nsuitable for language pairs with big differences\\nin word order making the quality of translation\\nfar from satisfactory. With the progress in deep\\nlearning being applied to MT, in 2014, end-to-end\\nneural network translation model was proposed\\nby (Bahdanau et al., 2014; Sutskever et al., 2014)\\nwhere the term ”neural machine translation” was\\nformally used. Neural machine translation (NMT)\\nis the newest method of MT that uses a single\\nlarge neural network to model the entire transla-\\ntion process, freeing the need for excessive fea-\\nture engineering. Through the rapid research and\\nbreakthroughs, end-to-end neural machine trans-\\nlation has gained remarkable performances (Shi\\net al., 2021; Bahdanau et al., 2014) and have be-\\ncome mainstream approach to MT.\\n2 Related Work\\nEarly problem of NMT was often the poor trans-\\nlation for long sentences (Sutskever et al., 2014)\\nwhich can be attributed to the ﬁxed-length of\\nsource encoding in conventional encoder-decoder\\nas suggested by Cho et al. (2014a) for which the\\nconcept of attention to NMT was introduced by\\nBahdanau et al. (2014) to avoid keeping a ﬁxed\\nsource side representation.\\nAs compared to separately tuned components in\\nSMT, newly emerging Neural Machine translation\\nradically departures from previous machine learn-\\ning approaches as the training of NMT is end-to-\\nend which has signiﬁcantly improved translation\\nquality across 30 different languages (Junczys-\\nDowmunt et al., 2016). NMT model can be attrac-\\ntive for various reason one being scalability issue,\\nwhether it be memory requirements or computa-\\ntional speed. Another being able to train all the\\ncharacter embedding as each characters frequently\\noccurs in the training corpus.\\nMost neural machine translation models pro-\\nposed use encoder-decoder where a neural net-\\nwork reads and encodes a source sentence into\\na ﬁxed-length vector and a decoder then outputs\\na translation from the encoded vector, where in\\nmost of the cases the encoder and decoder are\\nmainly implemented as RNNs, CNNs or self-\\nattention network (Wu et al., 2018). The whole\\nencoder–decoder system, which consists of the\\nencoder and the decoder for a language pair, is', mimetype='text/plain', start_char_idx=0, end_char_idx=3682, metadata_seperator='\\n', text_template='{metadata_str}\\n\\n{content}'), score=0.35658528446439003)], metadata={'299492b5-45a7-432a-aaef-7540eb8524cc': {'page_label': '5', 'file_name': 'MachineTranslationwithAttention.pdf', 'file_path': '/content/data/MachineTranslationwithAttention.pdf', 'file_type': 'application/pdf', 'file_size': 482135, 'creation_date': '2025-02-03', 'last_modified_date': '2025-02-03'}, 'c07d25a5-8ff5-4ba4-bf58-16e770a225ea': {'page_label': '2', 'file_name': 'MachineTranslationwithAttention.pdf', 'file_path': '/content/data/MachineTranslationwithAttention.pdf', 'file_type': 'application/pdf', 'file_size': 482135, 'creation_date': '2025-02-03', 'last_modified_date': '2025-02-03'}})"
            ]
          },
          "metadata": {},
          "execution_count": 43
        }
      ]
    }
  ]
}