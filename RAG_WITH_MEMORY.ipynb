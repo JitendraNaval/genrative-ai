{
  "nbformat": 4,
  "nbformat_minor": 0,
  "metadata": {
    "colab": {
      "private_outputs": true,
      "provenance": []
    },
    "kernelspec": {
      "name": "python3",
      "display_name": "Python 3"
    },
    "language_info": {
      "name": "python"
    }
  },
  "cells": [
    {
      "cell_type": "code",
      "execution_count": null,
      "metadata": {
        "id": "rgyzOVBMCiGS"
      },
      "outputs": [],
      "source": [
        "%%capture --no-stderr\n",
        "%pip install --upgrade --quiet langchain  langchain-community langchainhub langchain-chroma beautifulsoup4"
      ]
    },
    {
      "cell_type": "code",
      "source": [
        "import os"
      ],
      "metadata": {
        "id": "hL6DTkqfEaVf"
      },
      "execution_count": null,
      "outputs": []
    },
    {
      "cell_type": "code",
      "source": [
        "pip install langchain-google-genai"
      ],
      "metadata": {
        "id": "Z_UoXYTaIbXO"
      },
      "execution_count": null,
      "outputs": []
    },
    {
      "cell_type": "code",
      "source": [
        "os.environ[\"LANGCHAIN_TRACING_V2\"]=\"true\"\n",
        "os.environ[\"LANGCHAIN_ENDPOINT\"]=\"https://api.smith.langchain.com\"\n",
        "os.environ[\"LANGCHAIN_API_KEY\"]=\"\"\n",
        "os.environ[\"LANGCHAIN_PROJECT\"]=\"RAG WITH MEMORY\"\n",
        "os.environ[\"GOOGLE_API_KEY\"]=\"\""
      ],
      "metadata": {
        "id": "8a2U4tEWEcBA"
      },
      "execution_count": null,
      "outputs": []
    },
    {
      "cell_type": "code",
      "source": [
        "import warnings\n",
        "warnings.filterwarnings('ignore')"
      ],
      "metadata": {
        "id": "8r18sbRlF_t3"
      },
      "execution_count": null,
      "outputs": []
    },
    {
      "cell_type": "code",
      "source": [
        "from langchain_google_genai import GoogleGenerativeAIEmbeddings\n",
        "gemini_embeddings=GoogleGenerativeAIEmbeddings(model=\"models/text-embedding-004\")"
      ],
      "metadata": {
        "id": "wM3y2qMRGI-_"
      },
      "execution_count": null,
      "outputs": []
    },
    {
      "cell_type": "code",
      "source": [
        "from langchain_google_genai import ChatGoogleGenerativeAI\n",
        "model=ChatGoogleGenerativeAI(model=\"gemini-1.5-pro-001\",convert_system_message_to_human=True)"
      ],
      "metadata": {
        "id": "KHgjyjbFITh_"
      },
      "execution_count": null,
      "outputs": []
    },
    {
      "cell_type": "code",
      "source": [
        "print(model.invoke(\"hi\").content)"
      ],
      "metadata": {
        "id": "sZ3iWOULJ0sp"
      },
      "execution_count": null,
      "outputs": []
    },
    {
      "cell_type": "code",
      "source": [
        "import bs4\n",
        "from langchain import hub"
      ],
      "metadata": {
        "id": "IeyXuP4aKGn4"
      },
      "execution_count": null,
      "outputs": []
    },
    {
      "cell_type": "code",
      "source": [
        "from langchain.chains import create_retrieval_chain"
      ],
      "metadata": {
        "id": "UeJjMoQTW-RW"
      },
      "execution_count": null,
      "outputs": []
    },
    {
      "cell_type": "code",
      "source": [
        "from langchain.chains.combine_documents import create_stuff_documents_chain"
      ],
      "metadata": {
        "id": "pNGGFWSyXU_6"
      },
      "execution_count": null,
      "outputs": []
    },
    {
      "cell_type": "code",
      "source": [
        "from langchain_chroma import Chroma"
      ],
      "metadata": {
        "id": "FXPzwgU4X1wf"
      },
      "execution_count": null,
      "outputs": []
    },
    {
      "cell_type": "code",
      "source": [
        "from langchain_community.document_loaders import WebBaseLoader"
      ],
      "metadata": {
        "id": "4zGIDRMHYCan"
      },
      "execution_count": null,
      "outputs": []
    },
    {
      "cell_type": "code",
      "source": [
        "from langchain_core.prompts import ChatPromptTemplate"
      ],
      "metadata": {
        "id": "R70FtI2SYIKQ"
      },
      "execution_count": null,
      "outputs": []
    },
    {
      "cell_type": "code",
      "source": [
        "from langchain_text_splitters import RecursiveCharacterTextSplitter"
      ],
      "metadata": {
        "id": "llA_kCmKYjCg"
      },
      "execution_count": null,
      "outputs": []
    },
    {
      "cell_type": "code",
      "source": [
        "from langchain_core.prompts import MessagesPlaceholder"
      ],
      "metadata": {
        "id": "BWVJmEWLYwF-"
      },
      "execution_count": null,
      "outputs": []
    },
    {
      "cell_type": "code",
      "source": [
        "loader=WebBaseLoader(web_path=(\"https://lilianweng.github.io/posts/2023-06-23-agent/\",),bs_kwargs=dict(parse_only=bs4.SoupStrainer(class_=(\"post-content\",\"post-title\",\"post-header\"))),)"
      ],
      "metadata": {
        "id": "QRjFa25IZMuN"
      },
      "execution_count": null,
      "outputs": []
    },
    {
      "cell_type": "code",
      "source": [
        "doc= loader.load()"
      ],
      "metadata": {
        "id": "a3E7LCQQa6P4"
      },
      "execution_count": null,
      "outputs": []
    },
    {
      "cell_type": "code",
      "source": [
        "doc"
      ],
      "metadata": {
        "id": "nA2tXl83bTP9"
      },
      "execution_count": null,
      "outputs": []
    },
    {
      "cell_type": "code",
      "source": [
        "text_spliter=RecursiveCharacterTextSplitter(chunk_size=1000,chunk_overlap=200)\n",
        "splits=text_spliter.split_documents(doc)"
      ],
      "metadata": {
        "id": "HFAWekMwbelt"
      },
      "execution_count": null,
      "outputs": []
    },
    {
      "cell_type": "code",
      "source": [
        "vectorstore = Chroma.from_documents(documents=splits, embedding=gemini_embeddings)\n",
        "retriever = vectorstore.as_retriever()"
      ],
      "metadata": {
        "id": "wirjwzATcJYx"
      },
      "execution_count": null,
      "outputs": []
    },
    {
      "cell_type": "code",
      "source": [
        "retriever"
      ],
      "metadata": {
        "id": "DXZyTOIY2bvH"
      },
      "execution_count": null,
      "outputs": []
    },
    {
      "cell_type": "code",
      "source": [
        "system_prompt=(\n",
        "    \"You are an assistant for question-answering task.\"\n",
        "    \"Use the following pieces of retrieved context to answer the question\"\n",
        "    \"If you don't know the answer, say that you don't know\"\n",
        "    \"Use three sentence maximum and keep  the answer concise. \"\n",
        "    \"\\n\\n\"\n",
        "    \"{context}\"\n",
        "\n",
        ")\n"
      ],
      "metadata": {
        "id": "10BqQkZl36ZM"
      },
      "execution_count": null,
      "outputs": []
    },
    {
      "cell_type": "code",
      "source": [
        "chat_prompt=ChatPromptTemplate.from_messages(\n",
        "    [\n",
        "        (\"system\",system_prompt),\n",
        "        (\"human\",\"{input}\")\n",
        "    ]\n",
        ")\n"
      ],
      "metadata": {
        "id": "cr22Mknb5sPL"
      },
      "execution_count": null,
      "outputs": []
    },
    {
      "cell_type": "code",
      "source": [
        "question_answering_chain=create_stuff_documents_chain(model,chat_prompt)"
      ],
      "metadata": {
        "id": "N4eBmLDK61eP"
      },
      "execution_count": null,
      "outputs": []
    },
    {
      "cell_type": "code",
      "source": [
        "rag_chain=create_retrieval_chain(retriever,question_answering_chain)"
      ],
      "metadata": {
        "id": "B9hX-CJZ71W1"
      },
      "execution_count": null,
      "outputs": []
    },
    {
      "cell_type": "code",
      "source": [
        "respose=rag_chain.invoke({\"input\":\"what is MRKL?\"})"
      ],
      "metadata": {
        "id": "3P85_12MQOPl"
      },
      "execution_count": null,
      "outputs": []
    },
    {
      "cell_type": "code",
      "source": [
        "respose[\"answer\"]"
      ],
      "metadata": {
        "id": "j40irxSaQeVx"
      },
      "execution_count": null,
      "outputs": []
    },
    {
      "cell_type": "code",
      "source": [
        "from langchain.chains import create_history_aware_retriever"
      ],
      "metadata": {
        "id": "2-VEpamaQvrN"
      },
      "execution_count": null,
      "outputs": []
    },
    {
      "cell_type": "code",
      "source": [
        "retriever_prompt = (\n",
        "    \"Given a chat history and the latest user question which might reference context in the chat history,\"\n",
        "    \"formulate a standalone question which can be understood without the chat history.\"\n",
        "    \"Do NOT answer the question, just reformulate it if needed and otherwise return it as is.\"\n",
        ")"
      ],
      "metadata": {
        "id": "iMxnxkz2Su-M"
      },
      "execution_count": null,
      "outputs": []
    },
    {
      "cell_type": "code",
      "source": [
        "contextualize_q_prompt=ChatPromptTemplate.from_messages(\n",
        "    [\n",
        "        (\"system\",retriever_prompt),\n",
        "        (\"human\",\"{input}\")\n",
        "    ]\n",
        "\n",
        "\n",
        ")"
      ],
      "metadata": {
        "id": "7yzFfwOHS_Sg"
      },
      "execution_count": null,
      "outputs": []
    },
    {
      "cell_type": "code",
      "source": [
        "history_aware_retriever=create_history_aware_retriever(model,retriever,contextualize_q_prompt)"
      ],
      "metadata": {
        "id": "aI_BOX7hTlT2"
      },
      "execution_count": null,
      "outputs": []
    },
    {
      "cell_type": "code",
      "source": [
        "from langchain.chains import create_retrieval_chain"
      ],
      "metadata": {
        "id": "KxT9XyQbT0gg"
      },
      "execution_count": null,
      "outputs": []
    },
    {
      "cell_type": "code",
      "source": [
        "from langchain.chains.combine_documents import create_stuff_documents_chain"
      ],
      "metadata": {
        "id": "5vBnXZVJUeFL"
      },
      "execution_count": null,
      "outputs": []
    },
    {
      "cell_type": "code",
      "source": [
        "qa_prompt=ChatPromptTemplate.from_messages(\n",
        "    [\n",
        "    (\"system\",system_prompt),\n",
        "    MessagesPlaceholder(\"chat_history\"),\n",
        "    (\"human\",\"{input}\")\n",
        "    ]\n",
        ")"
      ],
      "metadata": {
        "id": "WohwbKLMUlO2"
      },
      "execution_count": null,
      "outputs": []
    },
    {
      "cell_type": "code",
      "source": [
        "question_answering_chain=create_stuff_documents_chain(model,qa_prompt)"
      ],
      "metadata": {
        "id": "J2TEIOQZU-6L"
      },
      "execution_count": null,
      "outputs": []
    },
    {
      "cell_type": "code",
      "source": [
        "rag_chain=create_retrieval_chain(history_aware_retriever,question_answering_chain)"
      ],
      "metadata": {
        "id": "f69RvGDkVDT-"
      },
      "execution_count": null,
      "outputs": []
    },
    {
      "cell_type": "code",
      "source": [
        "from langchain_core.messages import HumanMessage,AIMessage"
      ],
      "metadata": {
        "id": "e2Y38LqEVNAX"
      },
      "execution_count": null,
      "outputs": []
    },
    {
      "cell_type": "code",
      "source": [
        "chat_history=[]"
      ],
      "metadata": {
        "id": "qy_CM8bgWlU-"
      },
      "execution_count": null,
      "outputs": []
    },
    {
      "cell_type": "code",
      "source": [
        "questions1=\"what is Task Decomposition ?\""
      ],
      "metadata": {
        "id": "vmmAr8jqVdpt"
      },
      "execution_count": null,
      "outputs": []
    },
    {
      "cell_type": "code",
      "source": [
        "message1=rag_chain.invoke({\"input\":questions1,\"chat_history\":chat_history})"
      ],
      "metadata": {
        "id": "fbkS7CN9W1_k"
      },
      "execution_count": null,
      "outputs": []
    },
    {
      "cell_type": "code",
      "source": [
        "message1[\"answer\"]"
      ],
      "metadata": {
        "id": "Kq5kLkCxFStA"
      },
      "execution_count": null,
      "outputs": []
    },
    {
      "cell_type": "code",
      "source": [
        "chat_history.extend(\n",
        "    [\n",
        "        HumanMessage(content=questions1),\n",
        "        AIMessage(content=message1[\"answer\"])\n",
        "    ]\n",
        ")"
      ],
      "metadata": {
        "id": "VDUkLlPvFZxN"
      },
      "execution_count": null,
      "outputs": []
    },
    {
      "cell_type": "code",
      "source": [
        "chat_history"
      ],
      "metadata": {
        "id": "tLyzoEt9F8xi"
      },
      "execution_count": null,
      "outputs": []
    },
    {
      "cell_type": "code",
      "source": [
        "second_question=\"what are common ways of doing it?\"\n",
        "message2=rag_chain.invoke({\"input\":second_question,\"chat_history\":chat_history})\n",
        "print(message2[\"answer\"])"
      ],
      "metadata": {
        "id": "RAFkaNOKF_nY"
      },
      "execution_count": null,
      "outputs": []
    },
    {
      "cell_type": "code",
      "source": [
        "from langchain_community.chat_message_histories import ChatMessageHistory\n",
        "from langchain_core.chat_history import BaseChatMessageHistory\n",
        "from langchain_core.runnables import RunnableWithMessageHistory"
      ],
      "metadata": {
        "id": "lnMMLBzSGeZh"
      },
      "execution_count": null,
      "outputs": []
    },
    {
      "cell_type": "code",
      "source": [
        "store={}"
      ],
      "metadata": {
        "id": "wY1n4ZFhHZ4A"
      },
      "execution_count": null,
      "outputs": []
    },
    {
      "cell_type": "code",
      "source": [
        "def get_session_history(session_id:str)->BaseChatMessageHistory:\n",
        "  if session_id not in store:\n",
        "    store[session_id]=ChatMessageHistory()\n",
        "  return store[session_id]"
      ],
      "metadata": {
        "id": "2fAptDilHbjv"
      },
      "execution_count": null,
      "outputs": []
    },
    {
      "cell_type": "code",
      "source": [
        "conversational_rag_chain=RunnableWithMessageHistory(\n",
        "    rag_chain,\n",
        "    get_session_history,\n",
        "    input_messages_key=\"input\",\n",
        "    history_messages_key=\"chat_history\",\n",
        "    output_messages_key=\"answer\"\n",
        "\n",
        ")"
      ],
      "metadata": {
        "id": "AG8F989PHxWG"
      },
      "execution_count": null,
      "outputs": []
    },
    {
      "cell_type": "code",
      "source": [
        "conversational_rag_chain.invoke(\n",
        "    {\"input\":\"What is Task Decomposition?\"},\n",
        "    config={\"configurable\":{\"session_id\":\"abc123\"}},\n",
        "    )[\"answer\"]"
      ],
      "metadata": {
        "id": "ZnzT9hnKITAO"
      },
      "execution_count": null,
      "outputs": []
    },
    {
      "cell_type": "code",
      "source": [
        "store"
      ],
      "metadata": {
        "id": "zyKEnDsHJDCW"
      },
      "execution_count": null,
      "outputs": []
    },
    {
      "cell_type": "code",
      "source": [
        "conversational_rag_chain.invoke(\n",
        "    {\"input\":\"what are common ways of doing it?\"},\n",
        "    config={\"configurable\":{\"session_id\":\"abc123\"}},\n",
        "    )[\"answer\"]"
      ],
      "metadata": {
        "id": "Jd2ri2gNJHBL"
      },
      "execution_count": null,
      "outputs": []
    },
    {
      "cell_type": "code",
      "source": [
        "for message in store[\"abc123\"].messages:\n",
        "  if isinstance(message,AIMessage):\n",
        "    prefix=\"AI\"\n",
        "  else:\n",
        "    prefix=\"Human\"\n",
        "  print(f\"{prefix}:{message.content}\\n\")"
      ],
      "metadata": {
        "id": "ZHMqG_0qJ3VD"
      },
      "execution_count": null,
      "outputs": []
    },
    {
      "cell_type": "code",
      "source": [
        "conversational_rag_chain.invoke(\n",
        "    {\"input\":\"What is a prompt technique like step xyz\"},\n",
        "    config={\"configurable\":{\"session_id\":\"abc123\"}},\n",
        "    )[\"answer\"]"
      ],
      "metadata": {
        "id": "y0AUz4A3Kfs5"
      },
      "execution_count": null,
      "outputs": []
    },
    {
      "cell_type": "code",
      "source": [
        "store"
      ],
      "metadata": {
        "id": "COvGS4W6K4N8"
      },
      "execution_count": null,
      "outputs": []
    },
    {
      "cell_type": "code",
      "source": [
        "for message in store[\"abc123\"].messages:\n",
        "  if isinstance(message,AIMessage):\n",
        "    prefix=\"AI\"\n",
        "  else:\n",
        "    prefix=\"Human\"\n",
        "  print(f\"{prefix}:{message.content}\\n\")"
      ],
      "metadata": {
        "id": "wVPfIciLK6i9"
      },
      "execution_count": null,
      "outputs": []
    },
    {
      "cell_type": "code",
      "source": [],
      "metadata": {
        "id": "R_QehvdoLU6o"
      },
      "execution_count": null,
      "outputs": []
    }
  ]
}