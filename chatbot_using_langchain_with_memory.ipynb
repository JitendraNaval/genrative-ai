{
  "nbformat": 4,
  "nbformat_minor": 0,
  "metadata": {
    "colab": {
      "private_outputs": true,
      "provenance": []
    },
    "kernelspec": {
      "name": "python3",
      "display_name": "Python 3"
    },
    "language_info": {
      "name": "python"
    }
  },
  "cells": [
    {
      "cell_type": "code",
      "source": [
        "!pip install -q langchain_google_genai"
      ],
      "metadata": {
        "id": "VNG8ES1iMq7z"
      },
      "execution_count": null,
      "outputs": []
    },
    {
      "cell_type": "code",
      "source": [
        "! pip install -U langchain langchain-openai"
      ],
      "metadata": {
        "id": "z52l63ZkUzwG"
      },
      "execution_count": null,
      "outputs": []
    },
    {
      "cell_type": "code",
      "source": [
        "!pip install -q langchain"
      ],
      "metadata": {
        "id": "hMMWWPo-Mrmp"
      },
      "execution_count": null,
      "outputs": []
    },
    {
      "cell_type": "code",
      "source": [
        "\n",
        "!pip install -q langchain_community"
      ],
      "metadata": {
        "id": "3WeEhljvMuOd"
      },
      "execution_count": null,
      "outputs": []
    },
    {
      "cell_type": "code",
      "source": [
        "import os"
      ],
      "metadata": {
        "id": "acsZD9xpMxo4"
      },
      "execution_count": null,
      "outputs": []
    },
    {
      "cell_type": "code",
      "source": [
        "os.environ[\"LANGCHAIN_TRACING_V2\"]=\"true\"\n",
        "os.environ[\"LANGCHAIN_ENDPOINT\"]=\"https://api.smith.langchain.com\"\n",
        "os.environ[\"LANGCHAIN_API_KEY\"]=\"lsv2_pt_374fa67ghj904147cb9933205\"\n",
        "os.environ[\"LANGCHAIN_PROJECT\"]=\"chatbotHistoryStore\"\n",
        "os.environ[\"GOOGLE_API_KEY\"] = \"AIzBMZ9auMsBis
54wy7Ja20PFA\""
      ],
      "metadata": {
        "id": "QmLDLdMEM0a_"
      },
      "execution_count": null,
      "outputs": []
    },
    {
      "cell_type": "code",
      "source": [
        "# LANGCHAIN_TRACING_V2=true\n",
        "# LANGCHAIN_ENDPOINT=\"https://api.smith.langchain.com\"\n",
        "# LANGCHAIN_API_KEY=\"lsv2_pt_37197514fa67498f907d43_9523033205\"\n",
        "# LANGCHAIN_PROJECT=\"chatbotHistoryStore\""
      ],
      "metadata": {
        "id": "5zN9yyIGVHHX"
      },
      "execution_count": null,
      "outputs": []
    },
    {
      "cell_type": "code",
      "source": [
        "from langchain_google_genai import ChatGoogleGenerativeAI"
      ],
      "metadata": {
        "id": "6b5_7nd6M8DR"
      },
      "execution_count": null,
      "outputs": []
    },
    {
      "cell_type": "code",
      "source": [
        "model = ChatGoogleGenerativeAI(model=\"gemini-pro\",convert_system_message_to_human=True)"
      ],
      "metadata": {
        "id": "ORPfRaEbM_GZ"
      },
      "execution_count": null,
      "outputs": []
    },
    {
      "cell_type": "code",
      "source": [
        "model.invoke(\"hi\").content"
      ],
      "metadata": {
        "id": "uaUHNrKtNCYA"
      },
      "execution_count": null,
      "outputs": []
    },
    {
      "cell_type": "code",
      "source": [
        "from langchain_core.output_parsers import StrOutputParser\n"
      ],
      "metadata": {
        "id": "HSxFvXWrNGDP"
      },
      "execution_count": null,
      "outputs": []
    },
    {
      "cell_type": "code",
      "source": [
        "parser=StrOutputParser()"
      ],
      "metadata": {
        "id": "uaHApg-1P3Tt"
      },
      "execution_count": null,
      "outputs": []
    },
    {
      "cell_type": "code",
      "source": [
        "parser.invoke(model.invoke(\"hi\"))"
      ],
      "metadata": {
        "id": "1hKTSt3lQOIy"
      },
      "execution_count": null,
      "outputs": []
    },
    {
      "cell_type": "code",
      "source": [
        "from langchain_core.messages import HumanMessage"
      ],
      "metadata": {
        "id": "SqIDnogsSFcB"
      },
      "execution_count": null,
      "outputs": []
    },
    {
      "cell_type": "code",
      "source": [
        "import warnings\n",
        "warnings.filterwarnings(\"ignore\")"
      ],
      "metadata": {
        "id": "aftspHioSkgx"
      },
      "execution_count": null,
      "outputs": []
    },
    {
      "cell_type": "code",
      "source": [
        "while True:\n",
        "  message=input(\"Write your query :\")\n",
        "  if message==\"bye\":\n",
        "    print(\"Good Bye have a great day!\")\n",
        "    break\n",
        "  else:\n",
        "    print(parser.invoke(model.invoke([HumanMessage(content=message)])))"
      ],
      "metadata": {
        "id": "jDFymLz2QTKx"
      },
      "execution_count": null,
      "outputs": []
    },
    {
      "cell_type": "code",
      "source": [
        "from langchain_core.chat_history import BaseChatMessageHistory"
      ],
      "metadata": {
        "id": "2GFqVBklWJD9"
      },
      "execution_count": null,
      "outputs": []
    },
    {
      "cell_type": "code",
      "source": [
        "from langchain_core.chat_history import InMemoryChatMessageHistory"
      ],
      "metadata": {
        "id": "pw2NTPyrWJG2"
      },
      "execution_count": null,
      "outputs": []
    },
    {
      "cell_type": "code",
      "source": [
        "from langchain_core.runnables.history import RunnableWithMessageHistory"
      ],
      "metadata": {
        "id": "oxW6-7n7WJJP"
      },
      "execution_count": null,
      "outputs": []
    },
    {
      "cell_type": "code",
      "source": [
        "result=model.invoke(\n",
        "    [\n",
        "        HumanMessage(content=\"Hi! I'm jitu\"),\n",
        "        AIMessage(content=\"Hello jitu! How can I assist you today\"),\n",
        "        HumanMessage(content=\"What's my name?\")\n",
        "    ]\n",
        ")"
      ],
      "metadata": {
        "id": "GWymQDG4WJMJ"
      },
      "execution_count": null,
      "outputs": []
    },
    {
      "cell_type": "code",
      "source": [
        "parser.invoke(result)"
      ],
      "metadata": {
        "id": "kS-L1FFJWJPz"
      },
      "execution_count": null,
      "outputs": []
    },
    {
      "cell_type": "code",
      "source": [
        "store={}"
      ],
      "metadata": {
        "id": "Rqi1sz8KYSAh"
      },
      "execution_count": null,
      "outputs": []
    },
    {
      "cell_type": "code",
      "source": [
        "def get_session_history(session_id:str)->BaseChatMessageHistory:\n",
        "  if session_id not in store:\n",
        "    store[session_id]=InMemoryChatMessageHistory()\n",
        "  return store[session_id]"
      ],
      "metadata": {
        "id": "wOWcwJ3jZJ_O"
      },
      "execution_count": null,
      "outputs": []
    },
    {
      "cell_type": "code",
      "source": [
        "config={\"configurable\":{\"session_id\":\"firstchat\"}}"
      ],
      "metadata": {
        "id": "WStfyTTmcLql"
      },
      "execution_count": null,
      "outputs": []
    },
    {
      "cell_type": "code",
      "source": [
        "model_with_memory=RunnableWithMessageHistory(model,get_session_history)"
      ],
      "metadata": {
        "id": "D8NThVL2ZtvJ"
      },
      "execution_count": null,
      "outputs": []
    },
    {
      "cell_type": "code",
      "source": [
        "model_with_memory.invoke([HumanMessage(content=\"Hi ! I'm jitu naval\")],config=config).content"
      ],
      "metadata": {
        "id": "10dbyXEHbdeE"
      },
      "execution_count": null,
      "outputs": []
    },
    {
      "cell_type": "code",
      "source": [
        "model_with_memory.invoke([HumanMessage(content=\"what is my name\")],config=config).content"
      ],
      "metadata": {
        "id": "3MVnlaP1c1uQ"
      },
      "execution_count": null,
      "outputs": []
    },
    {
      "cell_type": "code",
      "source": [
        "config={\"configurable\":{\"session_id\":\"secondchat\"}}"
      ],
      "metadata": {
        "id": "kMX3Agp6dNzb"
      },
      "execution_count": null,
      "outputs": []
    },
    {
      "cell_type": "code",
      "source": [
        "model_with_memory.invoke([HumanMessage(content=\"what is my name\")],config=config).content"
      ],
      "metadata": {
        "id": "35Z9wx6hdiw2"
      },
      "execution_count": null,
      "outputs": []
    },
    {
      "cell_type": "code",
      "source": [
        "config={\"configurable\":{\"session_id\":\"firstchat\"}}"
      ],
      "metadata": {
        "id": "kb6TD1WQdruf"
      },
      "execution_count": null,
      "outputs": []
    },
    {
      "cell_type": "code",
      "source": [
        "config"
      ],
      "metadata": {
        "id": "BAJGc_ypd3GE"
      },
      "execution_count": null,
      "outputs": []
    },
    {
      "cell_type": "code",
      "source": [
        "model_with_memory.invoke([HumanMessage(content=\"what is my name\")],config=config).content"
      ],
      "metadata": {
        "id": "imPVK5Xtd4zG"
      },
      "execution_count": null,
      "outputs": []
    },
    {
      "cell_type": "code",
      "source": [
        "store"
      ],
      "metadata": {
        "id": "LLoTwCgtd8YW"
      },
      "execution_count": null,
      "outputs": []
    },
    {
      "cell_type": "code",
      "source": [
        "from langchain_core.prompts import ChatPromptTemplate,MessagesPlaceholder"
      ],
      "metadata": {
        "id": "wCv350u6eH-4"
      },
      "execution_count": null,
      "outputs": []
    },
    {
      "cell_type": "code",
      "source": [
        "prompt=ChatPromptTemplate.from_messages(\n",
        "    [\n",
        "        (\"system\",\"Your are a helpful assistant. Answer all questions to the best of your ability\"),\n",
        "        MessagesPlaceholder(variable_name=\"message\"),\n",
        "    ]\n",
        ")\n",
        ""
      ],
      "metadata": {
        "id": "zpx2yv83hF3Q"
      },
      "execution_count": null,
      "outputs": []
    },
    {
      "cell_type": "code",
      "source": [
        "chain=prompt|model"
      ],
      "metadata": {
        "id": "d5My2pRFiN5-"
      },
      "execution_count": null,
      "outputs": []
    },
    {
      "cell_type": "code",
      "source": [
        "chain.invoke({\"message\":[\"hi! I'm bob\"]})"
      ],
      "metadata": {
        "id": "hOy_1txmii98"
      },
      "execution_count": null,
      "outputs": []
    },
    {
      "cell_type": "code",
      "source": [
        "chain.invoke({\"message\":[HumanMessage(content=\"hi! I'm bob\")]}).content"
      ],
      "metadata": {
        "id": "_eks5d8alO93"
      },
      "execution_count": null,
      "outputs": []
    },
    {
      "cell_type": "code",
      "source": [
        "chain.invoke({\"message\":[HumanMessage(content=\"what is my name\")]}).content"
      ],
      "metadata": {
        "id": "iitVJY9amB8Q"
      },
      "execution_count": null,
      "outputs": []
    },
    {
      "cell_type": "code",
      "source": [
        "model_with_memory=RunnableWithMessageHistory(chain,get_session_history)"
      ],
      "metadata": {
        "id": "ZsADmxusmWjq"
      },
      "execution_count": null,
      "outputs": []
    },
    {
      "cell_type": "code",
      "source": [
        "config={\"configurable\":{\"session_id\":\"fourtdchat\"}}"
      ],
      "metadata": {
        "id": "RRgAXtAWnFmV"
      },
      "execution_count": null,
      "outputs": []
    },
    {
      "cell_type": "code",
      "source": [
        "response=model_with_memory.invoke(\n",
        "    [HumanMessage(content=\"hi! I'm bob\")]\n",
        "    ,config=config)"
      ],
      "metadata": {
        "id": "CPcoKdjamnML"
      },
      "execution_count": null,
      "outputs": []
    },
    {
      "cell_type": "code",
      "source": [
        "response.content"
      ],
      "metadata": {
        "id": "ldwM8ZyRnQER"
      },
      "execution_count": null,
      "outputs": []
    },
    {
      "cell_type": "code",
      "source": [
        "response=model_with_memory.invoke(\n",
        "    [HumanMessage(content=\"what is my name\")]\n",
        "    ,config=config)\n",
        "print(response.content)"
      ],
      "metadata": {
        "id": "LVal5ysbnfe0"
      },
      "execution_count": null,
      "outputs": []
    },
    {
      "cell_type": "code",
      "source": [
        "response=model_with_memory.invoke(\n",
        "    [HumanMessage(content=\"what is 2+2\")]\n",
        "    ,config=config)\n",
        "print(response.content)"
      ],
      "metadata": {
        "id": "k5nNiH4AnxaO"
      },
      "execution_count": null,
      "outputs": []
    },
    {
      "cell_type": "code",
      "source": [
        "response=model_with_memory.invoke(\n",
        "    [HumanMessage(content=\"who is indian cricket team caption\")]\n",
        "    ,config=config)\n",
        "print(response.content)"
      ],
      "metadata": {
        "id": "8LI0i0zBn-Im"
      },
      "execution_count": null,
      "outputs": []
    },
    {
      "cell_type": "code",
      "source": [
        "response=model_with_memory.invoke(\n",
        "    [HumanMessage(content=\"what should i add in previous addition so that i will become 10 ?\")]\n",
        "    ,config=config)\n",
        "print(response.content)"
      ],
      "metadata": {
        "id": "yupFMYCSoOGR"
      },
      "execution_count": null,
      "outputs": []
    },
    {
      "cell_type": "code",
      "source": [
        "response=model_with_memory.invoke(\n",
        "    [HumanMessage(content=\"what is my name\")]\n",
        "    ,config=config)\n",
        "print(response.content)"
      ],
      "metadata": {
        "id": "IP1hzrZaokr3"
      },
      "execution_count": null,
      "outputs": []
    },
    {
      "cell_type": "code",
      "source": [
        "store"
      ],
      "metadata": {
        "id": "Xe3taCX-ovER"
      },
      "execution_count": null,
      "outputs": []
    },
    {
      "cell_type": "markdown",
      "source": [
        "**trimming the conversation**"
      ],
      "metadata": {
        "id": "Vivk7Lcsqa9i"
      }
    },
    {
      "cell_type": "code",
      "source": [
        "from langchain_core.messages import SystemMessage,trim_messages"
      ],
      "metadata": {
        "id": "dORq-sTtpEDj"
      },
      "execution_count": null,
      "outputs": []
    },
    {
      "cell_type": "code",
      "source": [
        "trimmer=trim_messages(\n",
        "    max_tokens=40,\n",
        "    strategy=\"last\",\n",
        "    token_counter=model,\n",
        "    include_system=True,\n",
        "    allow_partial=False,\n",
        "    start_on=\"human\"\n",
        ")\n"
      ],
      "metadata": {
        "id": "3eDrtalEsu6Q"
      },
      "execution_count": null,
      "outputs": []
    },
    {
      "cell_type": "code",
      "source": [
        "\n",
        "message=[\n",
        "    HumanMessage(content=\"hi! I'm bob\"),\n",
        "    AIMessage(content=\"hi\"),\n",
        "    HumanMessage(content=\"I like vanilla ice cream\"),\n",
        "    AIMessage(content=\"nice\"),\n",
        "    HumanMessage(content=\"whats 2+2\"),\n",
        "    AIMessage(content=\"4\"),\n",
        "    HumanMessage(content=\"thanks\"),\n",
        "    AIMessage(content=\"no problem!\"),\n",
        "    HumanMessage(content=\"having fun\"),\n",
        "    AIMessage(content=\"yes!\"),\n",
        "\n",
        "]\n"
      ],
      "metadata": {
        "id": "qazH3Xb2q2M7"
      },
      "execution_count": null,
      "outputs": []
    },
    {
      "cell_type": "code",
      "source": [
        "message"
      ],
      "metadata": {
        "id": "OppzC7Wgt4ug"
      },
      "execution_count": null,
      "outputs": []
    },
    {
      "cell_type": "code",
      "source": [
        "model.get_num_tokens_from_messages(message)"
      ],
      "metadata": {
        "id": "7ebVGA9f2Luh"
      },
      "execution_count": null,
      "outputs": []
    },
    {
      "cell_type": "code",
      "source": [
        "trimmed_message=trimmer.invoke(message)"
      ],
      "metadata": {
        "id": "ima-9FuA2bVQ"
      },
      "execution_count": null,
      "outputs": []
    },
    {
      "cell_type": "code",
      "source": [
        "model.get_num_tokens_from_messages(trimmed_message)"
      ],
      "metadata": {
        "id": "D-8KVvTH2s93"
      },
      "execution_count": null,
      "outputs": []
    },
    {
      "cell_type": "code",
      "source": [
        "prompt"
      ],
      "metadata": {
        "id": "iV3UU1Hp3X0J"
      },
      "execution_count": null,
      "outputs": []
    },
    {
      "cell_type": "code",
      "source": [
        "prompt=ChatPromptTemplate.from_messages(\n",
        "    [\n",
        "        (\"system\",\"Your are a helpful assistant. Answer all questions to the best of your ability\"),\n",
        "        MessagesPlaceholder(variable_name=\"message\"),\n",
        "    ]\n",
        ")\n",
        ""
      ],
      "metadata": {
        "id": "INleF0TZ41Yi"
      },
      "execution_count": null,
      "outputs": []
    },
    {
      "cell_type": "code",
      "source": [
        "message"
      ],
      "metadata": {
        "id": "Uqdb29F65wXA"
      },
      "execution_count": null,
      "outputs": []
    },
    {
      "cell_type": "code",
      "source": [
        "trimmed_message+[HumanMessage(content=\"what's my name\")]"
      ],
      "metadata": {
        "id": "CGPt2FgR5zFe"
      },
      "execution_count": null,
      "outputs": []
    },
    {
      "cell_type": "code",
      "source": [
        "from operator import itemgetter\n",
        "\n",
        "from langchain_core.runnables import RunnablePassthrough\n",
        "\n",
        "chain=(\n",
        "    RunnablePassthrough.assign(\n",
        "        message=itemgetter(\"message\")|trimmer\n",
        "    )\n",
        "    |prompt\n",
        "    |model\n",
        ")\n",
        "\n",
        "\n",
        "response=chain.invoke(\n",
        "    {\"message\":message+[HumanMessage(content=\"what's my name\")],\n",
        "     \"language\":\"English\"\n",
        "     }\n",
        "    )\n",
        "\n",
        "response.content"
      ],
      "metadata": {
        "id": "DGQCGPjs34nN"
      },
      "execution_count": null,
      "outputs": []
    },
    {
      "cell_type": "code",
      "source": [
        "response=chain.invoke(\n",
        "    {\"message\":message+[HumanMessage(content=\"what math problem did i ask\")],\n",
        "     \"language\":\"English\"\n",
        "     }\n",
        "    )"
      ],
      "metadata": {
        "id": "r4YtJR0r5x0d"
      },
      "execution_count": null,
      "outputs": []
    },
    {
      "cell_type": "code",
      "source": [
        "\n",
        "response.content"
      ],
      "metadata": {
        "id": "c3cZSF2O5sRZ"
      },
      "execution_count": null,
      "outputs": []
    },
    {
      "cell_type": "code",
      "source": [
        "model_with_memory=RunnableWithMessageHistory(\n",
        "    chain,\n",
        "    get_session_history,\n",
        "    input_messages_key=\"message\")"
      ],
      "metadata": {
        "id": "uVTT1e8Z7UXn"
      },
      "execution_count": null,
      "outputs": []
    },
    {
      "cell_type": "code",
      "source": [
        "config={\"configurable\":{\"session_id\":\"fifthchat\"}}"
      ],
      "metadata": {
        "id": "SiUnDQ6b77TF"
      },
      "execution_count": null,
      "outputs": []
    },
    {
      "cell_type": "code",
      "source": [
        "response=model_with_memory.invoke(\n",
        "    {\"message\": message + [HumanMessage(content=\"whats my name\")],\n",
        "     \"language\":\"English\",\n",
        "     },\n",
        "    config=config)\n",
        "\n",
        "response.content"
      ],
      "metadata": {
        "id": "22hDKqZq8BTe"
      },
      "execution_count": null,
      "outputs": []
    },
    {
      "cell_type": "code",
      "source": [
        "response=model_with_memory.invoke(\n",
        "    {\"message\": message + [HumanMessage(content=\"what math problem did i ask\")],\n",
        "     \"language\":\"English\",\n",
        "     },\n",
        "    config=config)\n",
        "\n",
        "response.content"
      ],
      "metadata": {
        "id": "VkvagkB18sa_"
      },
      "execution_count": null,
      "outputs": []
    },
    {
      "cell_type": "code",
      "source": [],
      "metadata": {
        "id": "fcYoa3SO9Bg6"
      },
      "execution_count": null,
      "outputs": []
    }
  ]
}
